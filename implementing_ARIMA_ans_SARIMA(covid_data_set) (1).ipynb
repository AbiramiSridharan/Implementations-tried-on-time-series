{
  "nbformat": 4,
  "nbformat_minor": 0,
  "metadata": {
    "colab": {
      "name": "implementing ARIMA ans SARIMA(covid data set).ipynb",
      "provenance": [],
      "collapsed_sections": []
    },
    "kernelspec": {
      "display_name": "Python 3",
      "name": "python3"
    },
    "language_info": {
      "name": "python"
    }
  },
  "cells": [
    {
      "cell_type": "code",
      "metadata": {
        "id": "yQ5XfTXu0G8H"
      },
      "source": [
        "import numpy as np\n",
        "import pandas as pd\n",
        "\n",
        "import matplotlib.pyplot as plt\n",
        "%matplotlib inline"
      ],
      "execution_count": null,
      "outputs": []
    },
    {
      "cell_type": "code",
      "metadata": {
        "colab": {
          "base_uri": "https://localhost:8080/",
          "height": 206
        },
        "id": "iGkAlIgvHyZJ",
        "outputId": "3503ffdd-aab3-4ca8-abcb-9ff41eb202d8"
      },
      "source": [
        "df=pd.read_csv('/content/drive/MyDrive/Colab Notebooks/colab datas/covid19_tn (1).csv')\n",
        "df.head()\n"
      ],
      "execution_count": null,
      "outputs": [
        {
          "output_type": "execute_result",
          "data": {
            "text/html": [
              "<div>\n",
              "<style scoped>\n",
              "    .dataframe tbody tr th:only-of-type {\n",
              "        vertical-align: middle;\n",
              "    }\n",
              "\n",
              "    .dataframe tbody tr th {\n",
              "        vertical-align: top;\n",
              "    }\n",
              "\n",
              "    .dataframe thead th {\n",
              "        text-align: right;\n",
              "    }\n",
              "</style>\n",
              "<table border=\"1\" class=\"dataframe\">\n",
              "  <thead>\n",
              "    <tr style=\"text-align: right;\">\n",
              "      <th></th>\n",
              "      <th>Date</th>\n",
              "      <th>State</th>\n",
              "      <th>Confirmed</th>\n",
              "      <th>Daily</th>\n",
              "      <th>Recovered</th>\n",
              "      <th>Deceased</th>\n",
              "      <th>Other</th>\n",
              "      <th>Tested</th>\n",
              "    </tr>\n",
              "  </thead>\n",
              "  <tbody>\n",
              "    <tr>\n",
              "      <th>0</th>\n",
              "      <td>01-01-21</td>\n",
              "      <td>Tamil Nadu</td>\n",
              "      <td>818935</td>\n",
              "      <td>921</td>\n",
              "      <td>798420</td>\n",
              "      <td>12135</td>\n",
              "      <td>0</td>\n",
              "      <td>14258645</td>\n",
              "    </tr>\n",
              "    <tr>\n",
              "      <th>1</th>\n",
              "      <td>02-01-21</td>\n",
              "      <td>Tamil Nadu</td>\n",
              "      <td>819845</td>\n",
              "      <td>910</td>\n",
              "      <td>799427</td>\n",
              "      <td>12146</td>\n",
              "      <td>0</td>\n",
              "      <td>14321046</td>\n",
              "    </tr>\n",
              "    <tr>\n",
              "      <th>2</th>\n",
              "      <td>03-01-21</td>\n",
              "      <td>Tamil Nadu</td>\n",
              "      <td>820712</td>\n",
              "      <td>867</td>\n",
              "      <td>800429</td>\n",
              "      <td>12156</td>\n",
              "      <td>0</td>\n",
              "      <td>14382123</td>\n",
              "    </tr>\n",
              "    <tr>\n",
              "      <th>3</th>\n",
              "      <td>04-01-21</td>\n",
              "      <td>Tamil Nadu</td>\n",
              "      <td>821550</td>\n",
              "      <td>838</td>\n",
              "      <td>801414</td>\n",
              "      <td>12166</td>\n",
              "      <td>0</td>\n",
              "      <td>14442625</td>\n",
              "    </tr>\n",
              "    <tr>\n",
              "      <th>4</th>\n",
              "      <td>05-01-21</td>\n",
              "      <td>Tamil Nadu</td>\n",
              "      <td>822370</td>\n",
              "      <td>820</td>\n",
              "      <td>802385</td>\n",
              "      <td>12177</td>\n",
              "      <td>0</td>\n",
              "      <td>14502929</td>\n",
              "    </tr>\n",
              "  </tbody>\n",
              "</table>\n",
              "</div>"
            ],
            "text/plain": [
              "       Date       State  Confirmed  Daily  Recovered  Deceased  Other    Tested\n",
              "0  01-01-21  Tamil Nadu     818935    921     798420     12135      0  14258645\n",
              "1  02-01-21  Tamil Nadu     819845    910     799427     12146      0  14321046\n",
              "2  03-01-21  Tamil Nadu     820712    867     800429     12156      0  14382123\n",
              "3  04-01-21  Tamil Nadu     821550    838     801414     12166      0  14442625\n",
              "4  05-01-21  Tamil Nadu     822370    820     802385     12177      0  14502929"
            ]
          },
          "metadata": {
            "tags": []
          },
          "execution_count": 3
        }
      ]
    },
    {
      "cell_type": "code",
      "metadata": {
        "id": "euWolwg1aTq_"
      },
      "source": [
        "\n",
        "#df.set_index('Date',inplace=True)\n"
      ],
      "execution_count": null,
      "outputs": []
    },
    {
      "cell_type": "code",
      "metadata": {
        "colab": {
          "base_uri": "https://localhost:8080/",
          "height": 206
        },
        "id": "QJ-zc9zMJqCK",
        "outputId": "b962c00e-863c-4c39-cac3-e5d4efcb70b0"
      },
      "source": [
        "df.tail()"
      ],
      "execution_count": null,
      "outputs": [
        {
          "output_type": "execute_result",
          "data": {
            "text/html": [
              "<div>\n",
              "<style scoped>\n",
              "    .dataframe tbody tr th:only-of-type {\n",
              "        vertical-align: middle;\n",
              "    }\n",
              "\n",
              "    .dataframe tbody tr th {\n",
              "        vertical-align: top;\n",
              "    }\n",
              "\n",
              "    .dataframe thead th {\n",
              "        text-align: right;\n",
              "    }\n",
              "</style>\n",
              "<table border=\"1\" class=\"dataframe\">\n",
              "  <thead>\n",
              "    <tr style=\"text-align: right;\">\n",
              "      <th></th>\n",
              "      <th>Date</th>\n",
              "      <th>State</th>\n",
              "      <th>Confirmed</th>\n",
              "      <th>Daily</th>\n",
              "      <th>Recovered</th>\n",
              "      <th>Deceased</th>\n",
              "      <th>Other</th>\n",
              "      <th>Tested</th>\n",
              "    </tr>\n",
              "  </thead>\n",
              "  <tbody>\n",
              "    <tr>\n",
              "      <th>141</th>\n",
              "      <td>22-05-21</td>\n",
              "      <td>Tamil Nadu</td>\n",
              "      <td>1806861</td>\n",
              "      <td>35873</td>\n",
              "      <td>1502537</td>\n",
              "      <td>20046</td>\n",
              "      <td>0</td>\n",
              "      <td>26124748</td>\n",
              "    </tr>\n",
              "    <tr>\n",
              "      <th>142</th>\n",
              "      <td>23-05-21</td>\n",
              "      <td>Tamil Nadu</td>\n",
              "      <td>1842344</td>\n",
              "      <td>35483</td>\n",
              "      <td>1527733</td>\n",
              "      <td>20468</td>\n",
              "      <td>0</td>\n",
              "      <td>26301572</td>\n",
              "    </tr>\n",
              "    <tr>\n",
              "      <th>143</th>\n",
              "      <td>24-05-21</td>\n",
              "      <td>Tamil Nadu</td>\n",
              "      <td>1877211</td>\n",
              "      <td>34867</td>\n",
              "      <td>1554759</td>\n",
              "      <td>20872</td>\n",
              "      <td>0</td>\n",
              "      <td>26469766</td>\n",
              "    </tr>\n",
              "    <tr>\n",
              "      <th>144</th>\n",
              "      <td>25-05-21</td>\n",
              "      <td>Tamil Nadu</td>\n",
              "      <td>1911496</td>\n",
              "      <td>34285</td>\n",
              "      <td>1583504</td>\n",
              "      <td>21340</td>\n",
              "      <td>0</td>\n",
              "      <td>26641632</td>\n",
              "    </tr>\n",
              "    <tr>\n",
              "      <th>145</th>\n",
              "      <td>26-05-21</td>\n",
              "      <td>Tamil Nadu</td>\n",
              "      <td>1945260</td>\n",
              "      <td>33764</td>\n",
              "      <td>1613221</td>\n",
              "      <td>21815</td>\n",
              "      <td>0</td>\n",
              "      <td>26814056</td>\n",
              "    </tr>\n",
              "  </tbody>\n",
              "</table>\n",
              "</div>"
            ],
            "text/plain": [
              "         Date       State  Confirmed  ...  Deceased  Other    Tested\n",
              "141  22-05-21  Tamil Nadu    1806861  ...     20046      0  26124748\n",
              "142  23-05-21  Tamil Nadu    1842344  ...     20468      0  26301572\n",
              "143  24-05-21  Tamil Nadu    1877211  ...     20872      0  26469766\n",
              "144  25-05-21  Tamil Nadu    1911496  ...     21340      0  26641632\n",
              "145  26-05-21  Tamil Nadu    1945260  ...     21815      0  26814056\n",
              "\n",
              "[5 rows x 8 columns]"
            ]
          },
          "metadata": {
            "tags": []
          },
          "execution_count": 5
        }
      ]
    },
    {
      "cell_type": "code",
      "metadata": {
        "colab": {
          "base_uri": "https://localhost:8080/",
          "height": 990
        },
        "id": "SVpoIv13J3iI",
        "outputId": "f05b4bcd-a4e5-4dfd-cb10-c9cc34e17e09"
      },
      "source": [
        "df1=df.loc[:,['Date','Daily']]\n",
        "df1.head(30)"
      ],
      "execution_count": null,
      "outputs": [
        {
          "output_type": "execute_result",
          "data": {
            "text/html": [
              "<div>\n",
              "<style scoped>\n",
              "    .dataframe tbody tr th:only-of-type {\n",
              "        vertical-align: middle;\n",
              "    }\n",
              "\n",
              "    .dataframe tbody tr th {\n",
              "        vertical-align: top;\n",
              "    }\n",
              "\n",
              "    .dataframe thead th {\n",
              "        text-align: right;\n",
              "    }\n",
              "</style>\n",
              "<table border=\"1\" class=\"dataframe\">\n",
              "  <thead>\n",
              "    <tr style=\"text-align: right;\">\n",
              "      <th></th>\n",
              "      <th>Date</th>\n",
              "      <th>Daily</th>\n",
              "    </tr>\n",
              "  </thead>\n",
              "  <tbody>\n",
              "    <tr>\n",
              "      <th>0</th>\n",
              "      <td>01-01-21</td>\n",
              "      <td>921</td>\n",
              "    </tr>\n",
              "    <tr>\n",
              "      <th>1</th>\n",
              "      <td>02-01-21</td>\n",
              "      <td>910</td>\n",
              "    </tr>\n",
              "    <tr>\n",
              "      <th>2</th>\n",
              "      <td>03-01-21</td>\n",
              "      <td>867</td>\n",
              "    </tr>\n",
              "    <tr>\n",
              "      <th>3</th>\n",
              "      <td>04-01-21</td>\n",
              "      <td>838</td>\n",
              "    </tr>\n",
              "    <tr>\n",
              "      <th>4</th>\n",
              "      <td>05-01-21</td>\n",
              "      <td>820</td>\n",
              "    </tr>\n",
              "    <tr>\n",
              "      <th>5</th>\n",
              "      <td>06-01-21</td>\n",
              "      <td>811</td>\n",
              "    </tr>\n",
              "    <tr>\n",
              "      <th>6</th>\n",
              "      <td>07-01-21</td>\n",
              "      <td>805</td>\n",
              "    </tr>\n",
              "    <tr>\n",
              "      <th>7</th>\n",
              "      <td>08-01-21</td>\n",
              "      <td>790</td>\n",
              "    </tr>\n",
              "    <tr>\n",
              "      <th>8</th>\n",
              "      <td>09-01-21</td>\n",
              "      <td>761</td>\n",
              "    </tr>\n",
              "    <tr>\n",
              "      <th>9</th>\n",
              "      <td>10-01-21</td>\n",
              "      <td>724</td>\n",
              "    </tr>\n",
              "    <tr>\n",
              "      <th>10</th>\n",
              "      <td>11-01-21</td>\n",
              "      <td>682</td>\n",
              "    </tr>\n",
              "    <tr>\n",
              "      <th>11</th>\n",
              "      <td>12-01-21</td>\n",
              "      <td>671</td>\n",
              "    </tr>\n",
              "    <tr>\n",
              "      <th>12</th>\n",
              "      <td>13-01-21</td>\n",
              "      <td>673</td>\n",
              "    </tr>\n",
              "    <tr>\n",
              "      <th>13</th>\n",
              "      <td>14-01-21</td>\n",
              "      <td>665</td>\n",
              "    </tr>\n",
              "    <tr>\n",
              "      <th>14</th>\n",
              "      <td>15-01-21</td>\n",
              "      <td>621</td>\n",
              "    </tr>\n",
              "    <tr>\n",
              "      <th>15</th>\n",
              "      <td>16-01-21</td>\n",
              "      <td>610</td>\n",
              "    </tr>\n",
              "    <tr>\n",
              "      <th>16</th>\n",
              "      <td>17-01-21</td>\n",
              "      <td>589</td>\n",
              "    </tr>\n",
              "    <tr>\n",
              "      <th>17</th>\n",
              "      <td>18-01-21</td>\n",
              "      <td>551</td>\n",
              "    </tr>\n",
              "    <tr>\n",
              "      <th>18</th>\n",
              "      <td>19-01-21</td>\n",
              "      <td>543</td>\n",
              "    </tr>\n",
              "    <tr>\n",
              "      <th>19</th>\n",
              "      <td>20-01-21</td>\n",
              "      <td>549</td>\n",
              "    </tr>\n",
              "    <tr>\n",
              "      <th>20</th>\n",
              "      <td>21-01-21</td>\n",
              "      <td>596</td>\n",
              "    </tr>\n",
              "    <tr>\n",
              "      <th>21</th>\n",
              "      <td>22-01-21</td>\n",
              "      <td>574</td>\n",
              "    </tr>\n",
              "    <tr>\n",
              "      <th>22</th>\n",
              "      <td>23-01-21</td>\n",
              "      <td>586</td>\n",
              "    </tr>\n",
              "    <tr>\n",
              "      <th>23</th>\n",
              "      <td>24-01-21</td>\n",
              "      <td>569</td>\n",
              "    </tr>\n",
              "    <tr>\n",
              "      <th>24</th>\n",
              "      <td>25-01-21</td>\n",
              "      <td>540</td>\n",
              "    </tr>\n",
              "    <tr>\n",
              "      <th>25</th>\n",
              "      <td>26-01-21</td>\n",
              "      <td>523</td>\n",
              "    </tr>\n",
              "    <tr>\n",
              "      <th>26</th>\n",
              "      <td>27-01-21</td>\n",
              "      <td>512</td>\n",
              "    </tr>\n",
              "    <tr>\n",
              "      <th>27</th>\n",
              "      <td>28-01-21</td>\n",
              "      <td>503</td>\n",
              "    </tr>\n",
              "    <tr>\n",
              "      <th>28</th>\n",
              "      <td>29-01-21</td>\n",
              "      <td>509</td>\n",
              "    </tr>\n",
              "    <tr>\n",
              "      <th>29</th>\n",
              "      <td>30-01-21</td>\n",
              "      <td>505</td>\n",
              "    </tr>\n",
              "  </tbody>\n",
              "</table>\n",
              "</div>"
            ],
            "text/plain": [
              "        Date  Daily\n",
              "0   01-01-21    921\n",
              "1   02-01-21    910\n",
              "2   03-01-21    867\n",
              "3   04-01-21    838\n",
              "4   05-01-21    820\n",
              "5   06-01-21    811\n",
              "6   07-01-21    805\n",
              "7   08-01-21    790\n",
              "8   09-01-21    761\n",
              "9   10-01-21    724\n",
              "10  11-01-21    682\n",
              "11  12-01-21    671\n",
              "12  13-01-21    673\n",
              "13  14-01-21    665\n",
              "14  15-01-21    621\n",
              "15  16-01-21    610\n",
              "16  17-01-21    589\n",
              "17  18-01-21    551\n",
              "18  19-01-21    543\n",
              "19  20-01-21    549\n",
              "20  21-01-21    596\n",
              "21  22-01-21    574\n",
              "22  23-01-21    586\n",
              "23  24-01-21    569\n",
              "24  25-01-21    540\n",
              "25  26-01-21    523\n",
              "26  27-01-21    512\n",
              "27  28-01-21    503\n",
              "28  29-01-21    509\n",
              "29  30-01-21    505"
            ]
          },
          "metadata": {
            "tags": []
          },
          "execution_count": 6
        }
      ]
    },
    {
      "cell_type": "code",
      "metadata": {
        "colab": {
          "base_uri": "https://localhost:8080/",
          "height": 206
        },
        "id": "WD6VqmVWKlRQ",
        "outputId": "003efb23-9ff0-40be-dca9-5e5671c29e7b"
      },
      "source": [
        "df1.tail()"
      ],
      "execution_count": null,
      "outputs": [
        {
          "output_type": "execute_result",
          "data": {
            "text/html": [
              "<div>\n",
              "<style scoped>\n",
              "    .dataframe tbody tr th:only-of-type {\n",
              "        vertical-align: middle;\n",
              "    }\n",
              "\n",
              "    .dataframe tbody tr th {\n",
              "        vertical-align: top;\n",
              "    }\n",
              "\n",
              "    .dataframe thead th {\n",
              "        text-align: right;\n",
              "    }\n",
              "</style>\n",
              "<table border=\"1\" class=\"dataframe\">\n",
              "  <thead>\n",
              "    <tr style=\"text-align: right;\">\n",
              "      <th></th>\n",
              "      <th>Date</th>\n",
              "      <th>Daily</th>\n",
              "    </tr>\n",
              "  </thead>\n",
              "  <tbody>\n",
              "    <tr>\n",
              "      <th>141</th>\n",
              "      <td>22-05-21</td>\n",
              "      <td>35873</td>\n",
              "    </tr>\n",
              "    <tr>\n",
              "      <th>142</th>\n",
              "      <td>23-05-21</td>\n",
              "      <td>35483</td>\n",
              "    </tr>\n",
              "    <tr>\n",
              "      <th>143</th>\n",
              "      <td>24-05-21</td>\n",
              "      <td>34867</td>\n",
              "    </tr>\n",
              "    <tr>\n",
              "      <th>144</th>\n",
              "      <td>25-05-21</td>\n",
              "      <td>34285</td>\n",
              "    </tr>\n",
              "    <tr>\n",
              "      <th>145</th>\n",
              "      <td>26-05-21</td>\n",
              "      <td>33764</td>\n",
              "    </tr>\n",
              "  </tbody>\n",
              "</table>\n",
              "</div>"
            ],
            "text/plain": [
              "         Date  Daily\n",
              "141  22-05-21  35873\n",
              "142  23-05-21  35483\n",
              "143  24-05-21  34867\n",
              "144  25-05-21  34285\n",
              "145  26-05-21  33764"
            ]
          },
          "metadata": {
            "tags": []
          },
          "execution_count": 7
        }
      ]
    },
    {
      "cell_type": "code",
      "metadata": {
        "colab": {
          "base_uri": "https://localhost:8080/"
        },
        "id": "fgak1cV8KpE0",
        "outputId": "631e36ca-2cd4-47cc-c6f3-027a839e13f8"
      },
      "source": [
        "df1.isnull().sum()"
      ],
      "execution_count": null,
      "outputs": [
        {
          "output_type": "execute_result",
          "data": {
            "text/plain": [
              "Date     0\n",
              "Daily    0\n",
              "dtype: int64"
            ]
          },
          "metadata": {
            "tags": []
          },
          "execution_count": 8
        }
      ]
    },
    {
      "cell_type": "code",
      "metadata": {
        "colab": {
          "base_uri": "https://localhost:8080/"
        },
        "id": "Ieua5DbYK1NK",
        "outputId": "f15a1dcf-fa04-4344-cec8-07f323ac11bd"
      },
      "source": [
        "# Convert Month into Datetime\n",
        "df1['Date']=pd.to_datetime(df1['Date'])\n",
        "df1.info()"
      ],
      "execution_count": null,
      "outputs": [
        {
          "output_type": "stream",
          "text": [
            "<class 'pandas.core.frame.DataFrame'>\n",
            "RangeIndex: 146 entries, 0 to 145\n",
            "Data columns (total 2 columns):\n",
            " #   Column  Non-Null Count  Dtype         \n",
            "---  ------  --------------  -----         \n",
            " 0   Date    146 non-null    datetime64[ns]\n",
            " 1   Daily   146 non-null    int64         \n",
            "dtypes: datetime64[ns](1), int64(1)\n",
            "memory usage: 2.4 KB\n"
          ],
          "name": "stdout"
        }
      ]
    },
    {
      "cell_type": "code",
      "metadata": {
        "id": "f9yB5uKxOV91"
      },
      "source": [
        "\n",
        "#df1.set_index('Date',inplace=True)\n",
        "\n"
      ],
      "execution_count": null,
      "outputs": []
    },
    {
      "cell_type": "code",
      "metadata": {
        "colab": {
          "base_uri": "https://localhost:8080/",
          "height": 300
        },
        "id": "FiU4j2m4NSjt",
        "outputId": "94b067b8-bc10-4da1-da7d-eb35b7575109"
      },
      "source": [
        "df1.describe()"
      ],
      "execution_count": null,
      "outputs": [
        {
          "output_type": "execute_result",
          "data": {
            "text/html": [
              "<div>\n",
              "<style scoped>\n",
              "    .dataframe tbody tr th:only-of-type {\n",
              "        vertical-align: middle;\n",
              "    }\n",
              "\n",
              "    .dataframe tbody tr th {\n",
              "        vertical-align: top;\n",
              "    }\n",
              "\n",
              "    .dataframe thead th {\n",
              "        text-align: right;\n",
              "    }\n",
              "</style>\n",
              "<table border=\"1\" class=\"dataframe\">\n",
              "  <thead>\n",
              "    <tr style=\"text-align: right;\">\n",
              "      <th></th>\n",
              "      <th>Daily</th>\n",
              "    </tr>\n",
              "  </thead>\n",
              "  <tbody>\n",
              "    <tr>\n",
              "      <th>count</th>\n",
              "      <td>146.000000</td>\n",
              "    </tr>\n",
              "    <tr>\n",
              "      <th>mean</th>\n",
              "      <td>7720.863014</td>\n",
              "    </tr>\n",
              "    <tr>\n",
              "      <th>std</th>\n",
              "      <td>11364.714896</td>\n",
              "    </tr>\n",
              "    <tr>\n",
              "      <th>min</th>\n",
              "      <td>438.000000</td>\n",
              "    </tr>\n",
              "    <tr>\n",
              "      <th>25%</th>\n",
              "      <td>516.250000</td>\n",
              "    </tr>\n",
              "    <tr>\n",
              "      <th>50%</th>\n",
              "      <td>888.500000</td>\n",
              "    </tr>\n",
              "    <tr>\n",
              "      <th>75%</th>\n",
              "      <td>10974.750000</td>\n",
              "    </tr>\n",
              "    <tr>\n",
              "      <th>max</th>\n",
              "      <td>36184.000000</td>\n",
              "    </tr>\n",
              "  </tbody>\n",
              "</table>\n",
              "</div>"
            ],
            "text/plain": [
              "              Daily\n",
              "count    146.000000\n",
              "mean    7720.863014\n",
              "std    11364.714896\n",
              "min      438.000000\n",
              "25%      516.250000\n",
              "50%      888.500000\n",
              "75%    10974.750000\n",
              "max    36184.000000"
            ]
          },
          "metadata": {
            "tags": []
          },
          "execution_count": 12
        }
      ]
    },
    {
      "cell_type": "code",
      "metadata": {
        "colab": {
          "base_uri": "https://localhost:8080/"
        },
        "id": "UyMGUF1Sc_4X",
        "outputId": "b646ac7d-3255-4cee-c67f-f0d76aba4217"
      },
      "source": [
        "index=pd.date_range(start='2021-01-01',end='\t2021-05-26',freq='D')\n",
        "index"
      ],
      "execution_count": null,
      "outputs": [
        {
          "output_type": "execute_result",
          "data": {
            "text/plain": [
              "DatetimeIndex(['2021-01-01', '2021-01-02', '2021-01-03', '2021-01-04',\n",
              "               '2021-01-05', '2021-01-06', '2021-01-07', '2021-01-08',\n",
              "               '2021-01-09', '2021-01-10',\n",
              "               ...\n",
              "               '2021-05-17', '2021-05-18', '2021-05-19', '2021-05-20',\n",
              "               '2021-05-21', '2021-05-22', '2021-05-23', '2021-05-24',\n",
              "               '2021-05-25', '2021-05-26'],\n",
              "              dtype='datetime64[ns]', length=146, freq='D')"
            ]
          },
          "metadata": {
            "tags": []
          },
          "execution_count": 13
        }
      ]
    },
    {
      "cell_type": "code",
      "metadata": {
        "colab": {
          "base_uri": "https://localhost:8080/"
        },
        "id": "Gl3ezP8sddKT",
        "outputId": "b694dff0-c59c-46cf-bf7b-fb2232a639e5"
      },
      "source": [
        "data=pd.Series(df1['Daily'].values,index)\n",
        "data"
      ],
      "execution_count": null,
      "outputs": [
        {
          "output_type": "execute_result",
          "data": {
            "text/plain": [
              "2021-01-01      921\n",
              "2021-01-02      910\n",
              "2021-01-03      867\n",
              "2021-01-04      838\n",
              "2021-01-05      820\n",
              "              ...  \n",
              "2021-05-22    35873\n",
              "2021-05-23    35483\n",
              "2021-05-24    34867\n",
              "2021-05-25    34285\n",
              "2021-05-26    33764\n",
              "Freq: D, Length: 146, dtype: int64"
            ]
          },
          "metadata": {
            "tags": []
          },
          "execution_count": 14
        }
      ]
    },
    {
      "cell_type": "code",
      "metadata": {
        "colab": {
          "base_uri": "https://localhost:8080/",
          "height": 295
        },
        "id": "6XL9U9LmOExG",
        "outputId": "428daa40-30c2-4790-befc-4c1a30587e44"
      },
      "source": [
        "data.plot()"
      ],
      "execution_count": null,
      "outputs": [
        {
          "output_type": "execute_result",
          "data": {
            "text/plain": [
              "<matplotlib.axes._subplots.AxesSubplot at 0x7f4654d97b50>"
            ]
          },
          "metadata": {
            "tags": []
          },
          "execution_count": 16
        },
        {
          "output_type": "display_data",
          "data": {
            "image/png": "[encoded data removed]",
            "text/plain": [
              "<Figure size 432x288 with 1 Axes>"
            ]
          },
          "metadata": {
            "tags": [],
            "needs_background": "light"
          }
        }
      ]
    },
    {
      "cell_type": "code",
      "metadata": {
        "colab": {
          "base_uri": "https://localhost:8080/"
        },
        "id": "bjKHORR6eAns",
        "outputId": "1ef853a9-4881-45ad-827e-72b07a1e50de"
      },
      "source": [
        "from statsmodels.tsa.stattools import adfuller"
      ],
      "execution_count": null,
      "outputs": [
        {
          "output_type": "stream",
          "text": [
            "/usr/local/lib/python3.7/dist-packages/statsmodels/tools/_testing.py:19: FutureWarning: pandas.util.testing is deprecated. Use the functions in the public API at pandas.testing instead.\n",
            "  import pandas.util.testing as tm\n"
          ],
          "name": "stderr"
        }
      ]
    },
    {
      "cell_type": "code",
      "metadata": {
        "id": "-fGktSjxeEIE"
      },
      "source": [
        "test_result=adfuller(data.values)"
      ],
      "execution_count": null,
      "outputs": []
    },
    {
      "cell_type": "code",
      "metadata": {
        "id": "7U9-Y-ZugMbB"
      },
      "source": [
        "#Ho: It is non stationary\n",
        "#H1: It is stationary\n",
        "\n",
        "def adfuller_test(daily):\n",
        "    result=adfuller(daily)\n",
        "    labels = ['ADF Test Statistic','p-value','#Lags Used','Number of Observations Used']\n",
        "    for value,label in zip(result,labels):\n",
        "        print(label+' : '+str(value) )\n",
        "    if result[1] <= 0.05:\n",
        "        print(\"strong evidence against the null hypothesis(Ho), reject the null hypothesis. Data has no unit root and is stationary\")\n",
        "    else:\n",
        "        print(\"weak evidence against null hypothesis, time series has a unit root, indicating it is non-stationary \")"
      ],
      "execution_count": null,
      "outputs": []
    },
    {
      "cell_type": "code",
      "metadata": {
        "colab": {
          "base_uri": "https://localhost:8080/"
        },
        "id": "SQYLPdvXgVuq",
        "outputId": "072f1746-12cd-4c0f-9d69-4f3f87ca54df"
      },
      "source": [
        "adfuller_test(data.values)"
      ],
      "execution_count": null,
      "outputs": [
        {
          "output_type": "stream",
          "text": [
            "ADF Test Statistic : -6.564181239036366\n",
            "p-value : 8.23772016907368e-09\n",
            "#Lags Used : 14\n",
            "Number of Observations Used : 131\n",
            "strong evidence against the null hypothesis(Ho), reject the null hypothesis. Data has no unit root and is stationary\n"
          ],
          "name": "stdout"
        }
      ]
    },
    {
      "cell_type": "code",
      "metadata": {
        "colab": {
          "base_uri": "https://localhost:8080/",
          "height": 283
        },
        "id": "GCyJWV20g682",
        "outputId": "722c3090-9b77-4fc8-e403-0323749d8d7e"
      },
      "source": [
        "\n",
        "#Auto Regressive Model\n",
        "from pandas.plotting import autocorrelation_plot\n",
        "autocorrelation_plot(data.values)\n",
        "plt.show()"
      ],
      "execution_count": null,
      "outputs": [
        {
          "output_type": "display_data",
          "data": {
            "image/png": "[encoded data removed]",
            "text/plain": [
              "<Figure size 432x288 with 1 Axes>"
            ]
          },
          "metadata": {
            "tags": [],
            "needs_background": "light"
          }
        }
      ]
    },
    {
      "cell_type": "code",
      "metadata": {
        "id": "7Q2lky17hiDv"
      },
      "source": [
        "from statsmodels.graphics.tsaplots import plot_acf,plot_pacf\n",
        "\n",
        "import statsmodels.api as sm"
      ],
      "execution_count": null,
      "outputs": []
    },
    {
      "cell_type": "code",
      "metadata": {
        "colab": {
          "base_uri": "https://localhost:8080/",
          "height": 499
        },
        "id": "_KDPcKWPhk48",
        "outputId": "2733cdd4-9a64-4ceb-de24-f98102398958"
      },
      "source": [
        "fig = plt.figure(figsize=(12,8))\n",
        "ax1 = fig.add_subplot(211)\n",
        "fig = sm.graphics.tsa.plot_acf(data.values,lags=20,ax=ax1)\n",
        "ax2 = fig.add_subplot(212)\n",
        "fig = sm.graphics.tsa.plot_pacf(data.values,lags=20,ax=ax2)"
      ],
      "execution_count": null,
      "outputs": [
        {
          "output_type": "display_data",
          "data": {
            "image/png": "[encoded data removed]",
            "text/plain": [
              "<Figure size 864x576 with 2 Axes>"
            ]
          },
          "metadata": {
            "tags": [],
            "needs_background": "light"
          }
        }
      ]
    },
    {
      "cell_type": "code",
      "metadata": {
        "id": "q-A79usniO86"
      },
      "source": [
        "# For non-seasonal data\n",
        "#p=1, d=0, q=0 or 1\n",
        "from statsmodels.tsa.arima_model import ARIMA"
      ],
      "execution_count": null,
      "outputs": []
    },
    {
      "cell_type": "code",
      "metadata": {
        "id": "5E0GVHWoiYXh"
      },
      "source": [
        "\n",
        "model=ARIMA(data,order=(1,1,1))\n",
        "model_fit=model.fit()"
      ],
      "execution_count": null,
      "outputs": []
    },
    {
      "cell_type": "code",
      "metadata": {
        "colab": {
          "base_uri": "https://localhost:8080/",
          "height": 357
        },
        "id": "D21eSc_WikRg",
        "outputId": "a4e96741-cbad-4611-dc70-f32884b2a93a"
      },
      "source": [
        "\n",
        "model_fit.summary()"
      ],
      "execution_count": null,
      "outputs": [
        {
          "output_type": "execute_result",
          "data": {
            "text/html": [
              "<table class=\"simpletable\">\n",
              "<caption>ARIMA Model Results</caption>\n",
              "<tr>\n",
              "  <th>Dep. Variable:</th>        <td>D.y</td>       <th>  No. Observations:  </th>    <td>145</td>   \n",
              "</tr>\n",
              "<tr>\n",
              "  <th>Model:</th>          <td>ARIMA(1, 1, 1)</td>  <th>  Log Likelihood     </th> <td>-1066.246</td>\n",
              "</tr>\n",
              "<tr>\n",
              "  <th>Method:</th>             <td>css-mle</td>     <th>  S.D. of innovations</th>  <td>376.765</td> \n",
              "</tr>\n",
              "<tr>\n",
              "  <th>Date:</th>          <td>Sun, 30 May 2021</td> <th>  AIC                </th> <td>2140.492</td> \n",
              "</tr>\n",
              "<tr>\n",
              "  <th>Time:</th>              <td>11:26:30</td>     <th>  BIC                </th> <td>2152.399</td> \n",
              "</tr>\n",
              "<tr>\n",
              "  <th>Sample:</th>           <td>01-02-2021</td>    <th>  HQIC               </th> <td>2145.331</td> \n",
              "</tr>\n",
              "<tr>\n",
              "  <th></th>                 <td>- 05-26-2021</td>   <th>                     </th>     <td> </td>    \n",
              "</tr>\n",
              "</table>\n",
              "<table class=\"simpletable\">\n",
              "<tr>\n",
              "      <td></td>         <th>coef</th>     <th>std err</th>      <th>z</th>      <th>P>|z|</th>  <th>[0.025</th>    <th>0.975]</th>  \n",
              "</tr>\n",
              "<tr>\n",
              "  <th>const</th>     <td>  149.7706</td> <td>  177.792</td> <td>    0.842</td> <td> 0.401</td> <td> -198.695</td> <td>  498.236</td>\n",
              "</tr>\n",
              "<tr>\n",
              "  <th>ar.L1.D.y</th> <td>    0.9536</td> <td>    0.033</td> <td>   28.790</td> <td> 0.000</td> <td>    0.889</td> <td>    1.019</td>\n",
              "</tr>\n",
              "<tr>\n",
              "  <th>ma.L1.D.y</th> <td>   -0.7139</td> <td>    0.085</td> <td>   -8.400</td> <td> 0.000</td> <td>   -0.881</td> <td>   -0.547</td>\n",
              "</tr>\n",
              "</table>\n",
              "<table class=\"simpletable\">\n",
              "<caption>Roots</caption>\n",
              "<tr>\n",
              "    <td></td>   <th>            Real</th>  <th>         Imaginary</th> <th>         Modulus</th>  <th>        Frequency</th>\n",
              "</tr>\n",
              "<tr>\n",
              "  <th>AR.1</th> <td>           1.0486</td> <td>          +0.0000j</td> <td>           1.0486</td> <td>           0.0000</td>\n",
              "</tr>\n",
              "<tr>\n",
              "  <th>MA.1</th> <td>           1.4007</td> <td>          +0.0000j</td> <td>           1.4007</td> <td>           0.0000</td>\n",
              "</tr>\n",
              "</table>"
            ],
            "text/plain": [
              "<class 'statsmodels.iolib.summary.Summary'>\n",
              "\"\"\"\n",
              "                             ARIMA Model Results                              \n",
              "==============================================================================\n",
              "Dep. Variable:                    D.y   No. Observations:                  145\n",
              "Model:                 ARIMA(1, 1, 1)   Log Likelihood               -1066.246\n",
              "Method:                       css-mle   S.D. of innovations            376.765\n",
              "Date:                Sun, 30 May 2021   AIC                           2140.492\n",
              "Time:                        11:26:30   BIC                           2152.399\n",
              "Sample:                    01-02-2021   HQIC                          2145.331\n",
              "                         - 05-26-2021                                         \n",
              "==============================================================================\n",
              "                 coef    std err          z      P>|z|      [0.025      0.975]\n",
              "------------------------------------------------------------------------------\n",
              "const        149.7706    177.792      0.842      0.401    -198.695     498.236\n",
              "ar.L1.D.y      0.9536      0.033     28.790      0.000       0.889       1.019\n",
              "ma.L1.D.y     -0.7139      0.085     -8.400      0.000      -0.881      -0.547\n",
              "                                    Roots                                    \n",
              "=============================================================================\n",
              "                  Real          Imaginary           Modulus         Frequency\n",
              "-----------------------------------------------------------------------------\n",
              "AR.1            1.0486           +0.0000j            1.0486            0.0000\n",
              "MA.1            1.4007           +0.0000j            1.4007            0.0000\n",
              "-----------------------------------------------------------------------------\n",
              "\"\"\""
            ]
          },
          "metadata": {
            "tags": []
          },
          "execution_count": 26
        }
      ]
    },
    {
      "cell_type": "code",
      "metadata": {
        "colab": {
          "base_uri": "https://localhost:8080/"
        },
        "id": "Ry3Xe51IiqhC",
        "outputId": "f5a50544-1f16-471d-8ab1-2500756c7eda"
      },
      "source": [
        "df2=pd.DataFrame()\n",
        "\n",
        "df2=data.to_frame()\n",
        "print(df2)\n",
        "#df2.rename(columns = {'Date','daily'}, inplace = True)\n",
        "df2['forecast']=model_fit.predict()\n",
        "print(df2)\n",
        "#print(df2)\n",
        "#df2.columns['Date','Values']=data.to_frame()\n",
        "#print()\n"
      ],
      "execution_count": null,
      "outputs": [
        {
          "output_type": "stream",
          "text": [
            "                0\n",
            "2021-01-01    921\n",
            "2021-01-02    910\n",
            "2021-01-03    867\n",
            "2021-01-04    838\n",
            "2021-01-05    820\n",
            "...           ...\n",
            "2021-05-22  35873\n",
            "2021-05-23  35483\n",
            "2021-05-24  34867\n",
            "2021-05-25  34285\n",
            "2021-05-26  33764\n",
            "\n",
            "[146 rows x 1 columns]\n",
            "                0    forecast\n",
            "2021-01-01    921         NaN\n",
            "2021-01-02    910  149.770611\n",
            "2021-01-03    867   66.704823\n",
            "2021-01-04    838   31.332537\n",
            "2021-01-05    820   19.022472\n",
            "...           ...         ...\n",
            "2021-05-22  35873  605.718163\n",
            "2021-05-23  35483  364.846450\n",
            "2021-05-24  34867  173.945906\n",
            "2021-05-25  34285  -16.512114\n",
            "2021-05-26  33764 -144.336621\n",
            "\n",
            "[146 rows x 2 columns]\n"
          ],
          "name": "stdout"
        }
      ]
    },
    {
      "cell_type": "code",
      "metadata": {
        "colab": {
          "base_uri": "https://localhost:8080/",
          "height": 512
        },
        "id": "2O3VJNxPGN1s",
        "outputId": "78d45f61-4733-4093-d85a-7038359d015e"
      },
      "source": [
        "df2[[0,'forecast']].plot(figsize=(12,8))"
      ],
      "execution_count": null,
      "outputs": [
        {
          "output_type": "execute_result",
          "data": {
            "text/plain": [
              "<matplotlib.axes._subplots.AxesSubplot at 0x7f462d7416d0>"
            ]
          },
          "metadata": {
            "tags": []
          },
          "execution_count": 28
        },
        {
          "output_type": "display_data",
          "data": {
            "image/png": "[encoded data removed]",
            "text/plain": [
              "<Figure size 864x576 with 1 Axes>"
            ]
          },
          "metadata": {
            "tags": [],
            "needs_background": "light"
          }
        }
      ]
    },
    {
      "cell_type": "code",
      "metadata": {
        "id": "v--bhfSgi5WS"
      },
      "source": [
        "import statsmodels.api as sm"
      ],
      "execution_count": null,
      "outputs": []
    },
    {
      "cell_type": "code",
      "metadata": {
        "id": "NHkrv_F6i8JL"
      },
      "source": [
        "\n",
        "#model=sm.tsa.statespace.SARIMAX(data,order=(1, 1, 1),seasonal_order=(1,1,1,1))\n",
        "#results=model.fit()"
      ],
      "execution_count": null,
      "outputs": []
    },
    {
      "cell_type": "code",
      "metadata": {
        "colab": {
          "base_uri": "https://localhost:8080/"
        },
        "id": "SWBfHFvDOSfl",
        "outputId": "b2a985b3-c149-4dd1-d576-7c29e7cfd38c"
      },
      "source": [
        "df3=pd.DataFrame()\n",
        "df3=data.to_frame()\n",
        "print(df3)\n",
        "#df2.rename(columns = {'Date','daily'}, inplace = True)\n",
        "model=sm.tsa.statespace.SARIMAX(df3,order=(2, 1, 1),seasonal_order=(1,1,1,1))\n",
        "results=model.fit()\n"
      ],
      "execution_count": null,
      "outputs": [
        {
          "output_type": "stream",
          "text": [
            "                0\n",
            "2021-01-01    921\n",
            "2021-01-02    910\n",
            "2021-01-03    867\n",
            "2021-01-04    838\n",
            "2021-01-05    820\n",
            "...           ...\n",
            "2021-05-22  35873\n",
            "2021-05-23  35483\n",
            "2021-05-24  34867\n",
            "2021-05-25  34285\n",
            "2021-05-26  33764\n",
            "\n",
            "[146 rows x 1 columns]\n"
          ],
          "name": "stdout"
        },
        {
          "output_type": "stream",
          "text": [
            "/usr/local/lib/python3.7/dist-packages/statsmodels/tsa/statespace/sarimax.py:961: UserWarning: Non-invertible starting MA parameters found. Using zeros as starting parameters.\n",
            "  warn('Non-invertible starting MA parameters found.'\n",
            "/usr/local/lib/python3.7/dist-packages/statsmodels/tsa/statespace/sarimax.py:993: UserWarning: Non-invertible starting seasonal moving average Using zeros as starting parameters.\n",
            "  warn('Non-invertible starting seasonal moving average'\n"
          ],
          "name": "stderr"
        }
      ]
    },
    {
      "cell_type": "code",
      "metadata": {
        "colab": {
          "base_uri": "https://localhost:8080/"
        },
        "id": "TfWTrtXojBMw",
        "outputId": "96538941-0fac-4271-9b81-3d4e9d1966ad"
      },
      "source": [
        "df3['forecast']=results.predict()\n",
        "print(df3['forecast'])\n",
        "#df3[['Daily','forecast']].plot(figsize=(12,8))"
      ],
      "execution_count": null,
      "outputs": [
        {
          "output_type": "stream",
          "text": [
            "2021-01-01        0.000000\n",
            "2021-01-02     1398.552900\n",
            "2021-01-03      936.056927\n",
            "2021-01-04      862.210610\n",
            "2021-01-05      851.226157\n",
            "                  ...     \n",
            "2021-05-22    36564.912615\n",
            "2021-05-23    36084.504553\n",
            "2021-05-24    35739.108762\n",
            "2021-05-25    35075.776534\n",
            "2021-05-26    34379.455452\n",
            "Freq: D, Name: forecast, Length: 146, dtype: float64\n"
          ],
          "name": "stdout"
        }
      ]
    },
    {
      "cell_type": "code",
      "metadata": {
        "colab": {
          "base_uri": "https://localhost:8080/",
          "height": 424
        },
        "id": "Yy5u2mLGO1q7",
        "outputId": "feb275b2-a284-4d94-fa04-d94d7f13f254"
      },
      "source": [
        "df3"
      ],
      "execution_count": null,
      "outputs": [
        {
          "output_type": "execute_result",
          "data": {
            "text/html": [
              "<div>\n",
              "<style scoped>\n",
              "    .dataframe tbody tr th:only-of-type {\n",
              "        vertical-align: middle;\n",
              "    }\n",
              "\n",
              "    .dataframe tbody tr th {\n",
              "        vertical-align: top;\n",
              "    }\n",
              "\n",
              "    .dataframe thead th {\n",
              "        text-align: right;\n",
              "    }\n",
              "</style>\n",
              "<table border=\"1\" class=\"dataframe\">\n",
              "  <thead>\n",
              "    <tr style=\"text-align: right;\">\n",
              "      <th></th>\n",
              "      <th>0</th>\n",
              "      <th>forecast</th>\n",
              "    </tr>\n",
              "  </thead>\n",
              "  <tbody>\n",
              "    <tr>\n",
              "      <th>2021-01-01</th>\n",
              "      <td>921</td>\n",
              "      <td>0.000000</td>\n",
              "    </tr>\n",
              "    <tr>\n",
              "      <th>2021-01-02</th>\n",
              "      <td>910</td>\n",
              "      <td>1398.552900</td>\n",
              "    </tr>\n",
              "    <tr>\n",
              "      <th>2021-01-03</th>\n",
              "      <td>867</td>\n",
              "      <td>936.056927</td>\n",
              "    </tr>\n",
              "    <tr>\n",
              "      <th>2021-01-04</th>\n",
              "      <td>838</td>\n",
              "      <td>862.210610</td>\n",
              "    </tr>\n",
              "    <tr>\n",
              "      <th>2021-01-05</th>\n",
              "      <td>820</td>\n",
              "      <td>851.226157</td>\n",
              "    </tr>\n",
              "    <tr>\n",
              "      <th>...</th>\n",
              "      <td>...</td>\n",
              "      <td>...</td>\n",
              "    </tr>\n",
              "    <tr>\n",
              "      <th>2021-05-22</th>\n",
              "      <td>35873</td>\n",
              "      <td>36564.912615</td>\n",
              "    </tr>\n",
              "    <tr>\n",
              "      <th>2021-05-23</th>\n",
              "      <td>35483</td>\n",
              "      <td>36084.504553</td>\n",
              "    </tr>\n",
              "    <tr>\n",
              "      <th>2021-05-24</th>\n",
              "      <td>34867</td>\n",
              "      <td>35739.108762</td>\n",
              "    </tr>\n",
              "    <tr>\n",
              "      <th>2021-05-25</th>\n",
              "      <td>34285</td>\n",
              "      <td>35075.776534</td>\n",
              "    </tr>\n",
              "    <tr>\n",
              "      <th>2021-05-26</th>\n",
              "      <td>33764</td>\n",
              "      <td>34379.455452</td>\n",
              "    </tr>\n",
              "  </tbody>\n",
              "</table>\n",
              "<p>146 rows × 2 columns</p>\n",
              "</div>"
            ],
            "text/plain": [
              "                0      forecast\n",
              "2021-01-01    921      0.000000\n",
              "2021-01-02    910   1398.552900\n",
              "2021-01-03    867    936.056927\n",
              "2021-01-04    838    862.210610\n",
              "2021-01-05    820    851.226157\n",
              "...           ...           ...\n",
              "2021-05-22  35873  36564.912615\n",
              "2021-05-23  35483  36084.504553\n",
              "2021-05-24  34867  35739.108762\n",
              "2021-05-25  34285  35075.776534\n",
              "2021-05-26  33764  34379.455452\n",
              "\n",
              "[146 rows x 2 columns]"
            ]
          },
          "metadata": {
            "tags": []
          },
          "execution_count": 33
        }
      ]
    },
    {
      "cell_type": "code",
      "metadata": {
        "colab": {
          "base_uri": "https://localhost:8080/",
          "height": 512
        },
        "id": "ZqdcYVHHO82k",
        "outputId": "ed4eab23-110f-4178-8981-47d022a8ac8e"
      },
      "source": [
        "df3[[0,'forecast']].plot(figsize=(12,8))"
      ],
      "execution_count": null,
      "outputs": [
        {
          "output_type": "execute_result",
          "data": {
            "text/plain": [
              "<matplotlib.axes._subplots.AxesSubplot at 0x7f462b5a2290>"
            ]
          },
          "metadata": {
            "tags": []
          },
          "execution_count": 34
        },
        {
          "output_type": "display_data",
          "data": {
            "image/png": "[encoded data removed]",
            "text/plain": [
              "<Figure size 864x576 with 1 Axes>"
            ]
          },
          "metadata": {
            "tags": [],
            "needs_background": "light"
          }
        }
      ]
    },
    {
      "cell_type": "code",
      "metadata": {
        "colab": {
          "base_uri": "https://localhost:8080/",
          "height": 424
        },
        "id": "vff9KXKVxxd_",
        "outputId": "a762b21a-2b42-4045-d2ed-39a7cbf560d0"
      },
      "source": [
        "df3"
      ],
      "execution_count": null,
      "outputs": [
        {
          "output_type": "execute_result",
          "data": {
            "text/html": [
              "<div>\n",
              "<style scoped>\n",
              "    .dataframe tbody tr th:only-of-type {\n",
              "        vertical-align: middle;\n",
              "    }\n",
              "\n",
              "    .dataframe tbody tr th {\n",
              "        vertical-align: top;\n",
              "    }\n",
              "\n",
              "    .dataframe thead th {\n",
              "        text-align: right;\n",
              "    }\n",
              "</style>\n",
              "<table border=\"1\" class=\"dataframe\">\n",
              "  <thead>\n",
              "    <tr style=\"text-align: right;\">\n",
              "      <th></th>\n",
              "      <th>0</th>\n",
              "      <th>forecast</th>\n",
              "    </tr>\n",
              "  </thead>\n",
              "  <tbody>\n",
              "    <tr>\n",
              "      <th>2021-01-01</th>\n",
              "      <td>921</td>\n",
              "      <td>0.000000</td>\n",
              "    </tr>\n",
              "    <tr>\n",
              "      <th>2021-01-02</th>\n",
              "      <td>910</td>\n",
              "      <td>1398.552900</td>\n",
              "    </tr>\n",
              "    <tr>\n",
              "      <th>2021-01-03</th>\n",
              "      <td>867</td>\n",
              "      <td>936.056927</td>\n",
              "    </tr>\n",
              "    <tr>\n",
              "      <th>2021-01-04</th>\n",
              "      <td>838</td>\n",
              "      <td>862.210610</td>\n",
              "    </tr>\n",
              "    <tr>\n",
              "      <th>2021-01-05</th>\n",
              "      <td>820</td>\n",
              "      <td>851.226157</td>\n",
              "    </tr>\n",
              "    <tr>\n",
              "      <th>...</th>\n",
              "      <td>...</td>\n",
              "      <td>...</td>\n",
              "    </tr>\n",
              "    <tr>\n",
              "      <th>2021-05-22</th>\n",
              "      <td>35873</td>\n",
              "      <td>36564.912615</td>\n",
              "    </tr>\n",
              "    <tr>\n",
              "      <th>2021-05-23</th>\n",
              "      <td>35483</td>\n",
              "      <td>36084.504553</td>\n",
              "    </tr>\n",
              "    <tr>\n",
              "      <th>2021-05-24</th>\n",
              "      <td>34867</td>\n",
              "      <td>35739.108762</td>\n",
              "    </tr>\n",
              "    <tr>\n",
              "      <th>2021-05-25</th>\n",
              "      <td>34285</td>\n",
              "      <td>35075.776534</td>\n",
              "    </tr>\n",
              "    <tr>\n",
              "      <th>2021-05-26</th>\n",
              "      <td>33764</td>\n",
              "      <td>34379.455452</td>\n",
              "    </tr>\n",
              "  </tbody>\n",
              "</table>\n",
              "<p>146 rows × 2 columns</p>\n",
              "</div>"
            ],
            "text/plain": [
              "                0      forecast\n",
              "2021-01-01    921      0.000000\n",
              "2021-01-02    910   1398.552900\n",
              "2021-01-03    867    936.056927\n",
              "2021-01-04    838    862.210610\n",
              "2021-01-05    820    851.226157\n",
              "...           ...           ...\n",
              "2021-05-22  35873  36564.912615\n",
              "2021-05-23  35483  36084.504553\n",
              "2021-05-24  34867  35739.108762\n",
              "2021-05-25  34285  35075.776534\n",
              "2021-05-26  33764  34379.455452\n",
              "\n",
              "[146 rows x 2 columns]"
            ]
          },
          "metadata": {
            "tags": []
          },
          "execution_count": 35
        }
      ]
    },
    {
      "cell_type": "markdown",
      "metadata": {
        "id": "Ocg4iAQE8K9Q"
      },
      "source": [
        "**SARIMA**"
      ]
    },
    {
      "cell_type": "code",
      "metadata": {
        "id": "OsTGlD1trB0G"
      },
      "source": [
        "# next 50 days prediction \n",
        "from pandas.tseries.offsets import DateOffset\n",
        "future_dates=[df3.index[-1]+ DateOffset(days=x)for x in range(0,50)]"
      ],
      "execution_count": null,
      "outputs": []
    },
    {
      "cell_type": "code",
      "metadata": {
        "colab": {
          "base_uri": "https://localhost:8080/",
          "height": 1000
        },
        "id": "hnN_Nu3wrPMY",
        "outputId": "4d0a671c-5cca-4939-aa96-2c6483575c50"
      },
      "source": [
        "# created dates\n",
        "future_datest_df=pd.DataFrame(index=future_dates[1:],columns=df3.columns)\n",
        "future_datest_df"
      ],
      "execution_count": null,
      "outputs": [
        {
          "output_type": "execute_result",
          "data": {
            "text/html": [
              "<div>\n",
              "<style scoped>\n",
              "    .dataframe tbody tr th:only-of-type {\n",
              "        vertical-align: middle;\n",
              "    }\n",
              "\n",
              "    .dataframe tbody tr th {\n",
              "        vertical-align: top;\n",
              "    }\n",
              "\n",
              "    .dataframe thead th {\n",
              "        text-align: right;\n",
              "    }\n",
              "</style>\n",
              "<table border=\"1\" class=\"dataframe\">\n",
              "  <thead>\n",
              "    <tr style=\"text-align: right;\">\n",
              "      <th></th>\n",
              "      <th>0</th>\n",
              "      <th>forecast</th>\n",
              "    </tr>\n",
              "  </thead>\n",
              "  <tbody>\n",
              "    <tr>\n",
              "      <th>2021-05-27</th>\n",
              "      <td>NaN</td>\n",
              "      <td>NaN</td>\n",
              "    </tr>\n",
              "    <tr>\n",
              "      <th>2021-05-28</th>\n",
              "      <td>NaN</td>\n",
              "      <td>NaN</td>\n",
              "    </tr>\n",
              "    <tr>\n",
              "      <th>2021-05-29</th>\n",
              "      <td>NaN</td>\n",
              "      <td>NaN</td>\n",
              "    </tr>\n",
              "    <tr>\n",
              "      <th>2021-05-30</th>\n",
              "      <td>NaN</td>\n",
              "      <td>NaN</td>\n",
              "    </tr>\n",
              "    <tr>\n",
              "      <th>2021-05-31</th>\n",
              "      <td>NaN</td>\n",
              "      <td>NaN</td>\n",
              "    </tr>\n",
              "    <tr>\n",
              "      <th>2021-06-01</th>\n",
              "      <td>NaN</td>\n",
              "      <td>NaN</td>\n",
              "    </tr>\n",
              "    <tr>\n",
              "      <th>2021-06-02</th>\n",
              "      <td>NaN</td>\n",
              "      <td>NaN</td>\n",
              "    </tr>\n",
              "    <tr>\n",
              "      <th>2021-06-03</th>\n",
              "      <td>NaN</td>\n",
              "      <td>NaN</td>\n",
              "    </tr>\n",
              "    <tr>\n",
              "      <th>2021-06-04</th>\n",
              "      <td>NaN</td>\n",
              "      <td>NaN</td>\n",
              "    </tr>\n",
              "    <tr>\n",
              "      <th>2021-06-05</th>\n",
              "      <td>NaN</td>\n",
              "      <td>NaN</td>\n",
              "    </tr>\n",
              "    <tr>\n",
              "      <th>2021-06-06</th>\n",
              "      <td>NaN</td>\n",
              "      <td>NaN</td>\n",
              "    </tr>\n",
              "    <tr>\n",
              "      <th>2021-06-07</th>\n",
              "      <td>NaN</td>\n",
              "      <td>NaN</td>\n",
              "    </tr>\n",
              "    <tr>\n",
              "      <th>2021-06-08</th>\n",
              "      <td>NaN</td>\n",
              "      <td>NaN</td>\n",
              "    </tr>\n",
              "    <tr>\n",
              "      <th>2021-06-09</th>\n",
              "      <td>NaN</td>\n",
              "      <td>NaN</td>\n",
              "    </tr>\n",
              "    <tr>\n",
              "      <th>2021-06-10</th>\n",
              "      <td>NaN</td>\n",
              "      <td>NaN</td>\n",
              "    </tr>\n",
              "    <tr>\n",
              "      <th>2021-06-11</th>\n",
              "      <td>NaN</td>\n",
              "      <td>NaN</td>\n",
              "    </tr>\n",
              "    <tr>\n",
              "      <th>2021-06-12</th>\n",
              "      <td>NaN</td>\n",
              "      <td>NaN</td>\n",
              "    </tr>\n",
              "    <tr>\n",
              "      <th>2021-06-13</th>\n",
              "      <td>NaN</td>\n",
              "      <td>NaN</td>\n",
              "    </tr>\n",
              "    <tr>\n",
              "      <th>2021-06-14</th>\n",
              "      <td>NaN</td>\n",
              "      <td>NaN</td>\n",
              "    </tr>\n",
              "    <tr>\n",
              "      <th>2021-06-15</th>\n",
              "      <td>NaN</td>\n",
              "      <td>NaN</td>\n",
              "    </tr>\n",
              "    <tr>\n",
              "      <th>2021-06-16</th>\n",
              "      <td>NaN</td>\n",
              "      <td>NaN</td>\n",
              "    </tr>\n",
              "    <tr>\n",
              "      <th>2021-06-17</th>\n",
              "      <td>NaN</td>\n",
              "      <td>NaN</td>\n",
              "    </tr>\n",
              "    <tr>\n",
              "      <th>2021-06-18</th>\n",
              "      <td>NaN</td>\n",
              "      <td>NaN</td>\n",
              "    </tr>\n",
              "    <tr>\n",
              "      <th>2021-06-19</th>\n",
              "      <td>NaN</td>\n",
              "      <td>NaN</td>\n",
              "    </tr>\n",
              "    <tr>\n",
              "      <th>2021-06-20</th>\n",
              "      <td>NaN</td>\n",
              "      <td>NaN</td>\n",
              "    </tr>\n",
              "    <tr>\n",
              "      <th>2021-06-21</th>\n",
              "      <td>NaN</td>\n",
              "      <td>NaN</td>\n",
              "    </tr>\n",
              "    <tr>\n",
              "      <th>2021-06-22</th>\n",
              "      <td>NaN</td>\n",
              "      <td>NaN</td>\n",
              "    </tr>\n",
              "    <tr>\n",
              "      <th>2021-06-23</th>\n",
              "      <td>NaN</td>\n",
              "      <td>NaN</td>\n",
              "    </tr>\n",
              "    <tr>\n",
              "      <th>2021-06-24</th>\n",
              "      <td>NaN</td>\n",
              "      <td>NaN</td>\n",
              "    </tr>\n",
              "    <tr>\n",
              "      <th>2021-06-25</th>\n",
              "      <td>NaN</td>\n",
              "      <td>NaN</td>\n",
              "    </tr>\n",
              "    <tr>\n",
              "      <th>2021-06-26</th>\n",
              "      <td>NaN</td>\n",
              "      <td>NaN</td>\n",
              "    </tr>\n",
              "    <tr>\n",
              "      <th>2021-06-27</th>\n",
              "      <td>NaN</td>\n",
              "      <td>NaN</td>\n",
              "    </tr>\n",
              "    <tr>\n",
              "      <th>2021-06-28</th>\n",
              "      <td>NaN</td>\n",
              "      <td>NaN</td>\n",
              "    </tr>\n",
              "    <tr>\n",
              "      <th>2021-06-29</th>\n",
              "      <td>NaN</td>\n",
              "      <td>NaN</td>\n",
              "    </tr>\n",
              "    <tr>\n",
              "      <th>2021-06-30</th>\n",
              "      <td>NaN</td>\n",
              "      <td>NaN</td>\n",
              "    </tr>\n",
              "    <tr>\n",
              "      <th>2021-07-01</th>\n",
              "      <td>NaN</td>\n",
              "      <td>NaN</td>\n",
              "    </tr>\n",
              "    <tr>\n",
              "      <th>2021-07-02</th>\n",
              "      <td>NaN</td>\n",
              "      <td>NaN</td>\n",
              "    </tr>\n",
              "    <tr>\n",
              "      <th>2021-07-03</th>\n",
              "      <td>NaN</td>\n",
              "      <td>NaN</td>\n",
              "    </tr>\n",
              "    <tr>\n",
              "      <th>2021-07-04</th>\n",
              "      <td>NaN</td>\n",
              "      <td>NaN</td>\n",
              "    </tr>\n",
              "    <tr>\n",
              "      <th>2021-07-05</th>\n",
              "      <td>NaN</td>\n",
              "      <td>NaN</td>\n",
              "    </tr>\n",
              "    <tr>\n",
              "      <th>2021-07-06</th>\n",
              "      <td>NaN</td>\n",
              "      <td>NaN</td>\n",
              "    </tr>\n",
              "    <tr>\n",
              "      <th>2021-07-07</th>\n",
              "      <td>NaN</td>\n",
              "      <td>NaN</td>\n",
              "    </tr>\n",
              "    <tr>\n",
              "      <th>2021-07-08</th>\n",
              "      <td>NaN</td>\n",
              "      <td>NaN</td>\n",
              "    </tr>\n",
              "    <tr>\n",
              "      <th>2021-07-09</th>\n",
              "      <td>NaN</td>\n",
              "      <td>NaN</td>\n",
              "    </tr>\n",
              "    <tr>\n",
              "      <th>2021-07-10</th>\n",
              "      <td>NaN</td>\n",
              "      <td>NaN</td>\n",
              "    </tr>\n",
              "    <tr>\n",
              "      <th>2021-07-11</th>\n",
              "      <td>NaN</td>\n",
              "      <td>NaN</td>\n",
              "    </tr>\n",
              "    <tr>\n",
              "      <th>2021-07-12</th>\n",
              "      <td>NaN</td>\n",
              "      <td>NaN</td>\n",
              "    </tr>\n",
              "    <tr>\n",
              "      <th>2021-07-13</th>\n",
              "      <td>NaN</td>\n",
              "      <td>NaN</td>\n",
              "    </tr>\n",
              "    <tr>\n",
              "      <th>2021-07-14</th>\n",
              "      <td>NaN</td>\n",
              "      <td>NaN</td>\n",
              "    </tr>\n",
              "  </tbody>\n",
              "</table>\n",
              "</div>"
            ],
            "text/plain": [
              "              0 forecast\n",
              "2021-05-27  NaN      NaN\n",
              "2021-05-28  NaN      NaN\n",
              "2021-05-29  NaN      NaN\n",
              "2021-05-30  NaN      NaN\n",
              "2021-05-31  NaN      NaN\n",
              "2021-06-01  NaN      NaN\n",
              "2021-06-02  NaN      NaN\n",
              "2021-06-03  NaN      NaN\n",
              "2021-06-04  NaN      NaN\n",
              "2021-06-05  NaN      NaN\n",
              "2021-06-06  NaN      NaN\n",
              "2021-06-07  NaN      NaN\n",
              "2021-06-08  NaN      NaN\n",
              "2021-06-09  NaN      NaN\n",
              "2021-06-10  NaN      NaN\n",
              "2021-06-11  NaN      NaN\n",
              "2021-06-12  NaN      NaN\n",
              "2021-06-13  NaN      NaN\n",
              "2021-06-14  NaN      NaN\n",
              "2021-06-15  NaN      NaN\n",
              "2021-06-16  NaN      NaN\n",
              "2021-06-17  NaN      NaN\n",
              "2021-06-18  NaN      NaN\n",
              "2021-06-19  NaN      NaN\n",
              "2021-06-20  NaN      NaN\n",
              "2021-06-21  NaN      NaN\n",
              "2021-06-22  NaN      NaN\n",
              "2021-06-23  NaN      NaN\n",
              "2021-06-24  NaN      NaN\n",
              "2021-06-25  NaN      NaN\n",
              "2021-06-26  NaN      NaN\n",
              "2021-06-27  NaN      NaN\n",
              "2021-06-28  NaN      NaN\n",
              "2021-06-29  NaN      NaN\n",
              "2021-06-30  NaN      NaN\n",
              "2021-07-01  NaN      NaN\n",
              "2021-07-02  NaN      NaN\n",
              "2021-07-03  NaN      NaN\n",
              "2021-07-04  NaN      NaN\n",
              "2021-07-05  NaN      NaN\n",
              "2021-07-06  NaN      NaN\n",
              "2021-07-07  NaN      NaN\n",
              "2021-07-08  NaN      NaN\n",
              "2021-07-09  NaN      NaN\n",
              "2021-07-10  NaN      NaN\n",
              "2021-07-11  NaN      NaN\n",
              "2021-07-12  NaN      NaN\n",
              "2021-07-13  NaN      NaN\n",
              "2021-07-14  NaN      NaN"
            ]
          },
          "metadata": {
            "tags": []
          },
          "execution_count": 42
        }
      ]
    },
    {
      "cell_type": "code",
      "metadata": {
        "id": "H5Ou9jpgxmwr"
      },
      "source": [
        "\n",
        "future_df=pd.concat([df3,future_datest_df])"
      ],
      "execution_count": null,
      "outputs": []
    },
    {
      "cell_type": "code",
      "metadata": {
        "colab": {
          "base_uri": "https://localhost:8080/",
          "height": 424
        },
        "id": "aopMyjmR4OQu",
        "outputId": "d34c1890-a6ff-4a59-b402-b3dfe4274fa3"
      },
      "source": [
        "future_df"
      ],
      "execution_count": null,
      "outputs": [
        {
          "output_type": "execute_result",
          "data": {
            "text/html": [
              "<div>\n",
              "<style scoped>\n",
              "    .dataframe tbody tr th:only-of-type {\n",
              "        vertical-align: middle;\n",
              "    }\n",
              "\n",
              "    .dataframe tbody tr th {\n",
              "        vertical-align: top;\n",
              "    }\n",
              "\n",
              "    .dataframe thead th {\n",
              "        text-align: right;\n",
              "    }\n",
              "</style>\n",
              "<table border=\"1\" class=\"dataframe\">\n",
              "  <thead>\n",
              "    <tr style=\"text-align: right;\">\n",
              "      <th></th>\n",
              "      <th>0</th>\n",
              "      <th>forecast</th>\n",
              "    </tr>\n",
              "  </thead>\n",
              "  <tbody>\n",
              "    <tr>\n",
              "      <th>2021-01-01</th>\n",
              "      <td>921</td>\n",
              "      <td>0.000000</td>\n",
              "    </tr>\n",
              "    <tr>\n",
              "      <th>2021-01-02</th>\n",
              "      <td>910</td>\n",
              "      <td>1398.552900</td>\n",
              "    </tr>\n",
              "    <tr>\n",
              "      <th>2021-01-03</th>\n",
              "      <td>867</td>\n",
              "      <td>936.056927</td>\n",
              "    </tr>\n",
              "    <tr>\n",
              "      <th>2021-01-04</th>\n",
              "      <td>838</td>\n",
              "      <td>862.210610</td>\n",
              "    </tr>\n",
              "    <tr>\n",
              "      <th>2021-01-05</th>\n",
              "      <td>820</td>\n",
              "      <td>851.226157</td>\n",
              "    </tr>\n",
              "    <tr>\n",
              "      <th>...</th>\n",
              "      <td>...</td>\n",
              "      <td>...</td>\n",
              "    </tr>\n",
              "    <tr>\n",
              "      <th>2021-07-10</th>\n",
              "      <td>NaN</td>\n",
              "      <td>NaN</td>\n",
              "    </tr>\n",
              "    <tr>\n",
              "      <th>2021-07-11</th>\n",
              "      <td>NaN</td>\n",
              "      <td>NaN</td>\n",
              "    </tr>\n",
              "    <tr>\n",
              "      <th>2021-07-12</th>\n",
              "      <td>NaN</td>\n",
              "      <td>NaN</td>\n",
              "    </tr>\n",
              "    <tr>\n",
              "      <th>2021-07-13</th>\n",
              "      <td>NaN</td>\n",
              "      <td>NaN</td>\n",
              "    </tr>\n",
              "    <tr>\n",
              "      <th>2021-07-14</th>\n",
              "      <td>NaN</td>\n",
              "      <td>NaN</td>\n",
              "    </tr>\n",
              "  </tbody>\n",
              "</table>\n",
              "<p>195 rows × 2 columns</p>\n",
              "</div>"
            ],
            "text/plain": [
              "              0     forecast\n",
              "2021-01-01  921     0.000000\n",
              "2021-01-02  910  1398.552900\n",
              "2021-01-03  867   936.056927\n",
              "2021-01-04  838   862.210610\n",
              "2021-01-05  820   851.226157\n",
              "...         ...          ...\n",
              "2021-07-10  NaN          NaN\n",
              "2021-07-11  NaN          NaN\n",
              "2021-07-12  NaN          NaN\n",
              "2021-07-13  NaN          NaN\n",
              "2021-07-14  NaN          NaN\n",
              "\n",
              "[195 rows x 2 columns]"
            ]
          },
          "metadata": {
            "tags": []
          },
          "execution_count": 47
        }
      ]
    },
    {
      "cell_type": "code",
      "metadata": {
        "colab": {
          "base_uri": "https://localhost:8080/",
          "height": 569
        },
        "id": "s-YifZo7yz9K",
        "outputId": "c88cc3ff-9f0f-4cd0-9a33-152f2d2367f9"
      },
      "source": [
        "\n",
        "future_df['forecast'] = results.predict(start = 147, end = 265, dynamic= True)  \n",
        "future_df[[0, 'forecast']].plot(figsize=(12, 8))\n"
      ],
      "execution_count": null,
      "outputs": [
        {
          "output_type": "stream",
          "text": [
            "/usr/local/lib/python3.7/dist-packages/statsmodels/tsa/statespace/kalman_filter.py:1960: ValueWarning: Dynamic prediction specified to begin during out-of-sample forecasting period, and so has no effect.\n",
            "  ' effect.', ValueWarning)\n"
          ],
          "name": "stderr"
        },
        {
          "output_type": "execute_result",
          "data": {
            "text/plain": [
              "<matplotlib.axes._subplots.AxesSubplot at 0x7f4644799650>"
            ]
          },
          "metadata": {
            "tags": []
          },
          "execution_count": 48
        },
        {
          "output_type": "display_data",
          "data": {
            "image/png": "[encoded data removed]",
            "text/plain": [
              "<Figure size 864x576 with 1 Axes>"
            ]
          },
          "metadata": {
            "tags": [],
            "needs_background": "light"
          }
        }
      ]
    },
    {
      "cell_type": "markdown",
      "metadata": {
        "id": "aUtjDm5jDZ3H"
      },
      "source": [
        "**SARIMA gives better result compare to ARIMA**"
      ]
    }
  ]
}