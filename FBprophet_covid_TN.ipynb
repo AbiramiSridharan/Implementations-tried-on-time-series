{
  "nbformat": 4,
  "nbformat_minor": 0,
  "metadata": {
    "colab": {
      "name": "FBprophet- covid -TN.ipynb",
      "provenance": [],
      "collapsed_sections": []
    },
    "kernelspec": {
      "name": "python3",
      "display_name": "Python 3"
    },
    "language_info": {
      "name": "python"
    }
  },
  "cells": [
    {
      "cell_type": "code",
      "metadata": {
        "id": "g1VE11RoQOPi"
      },
      "source": [
        "import numpy as np\n",
        "import pandas as pd\n",
        "\n",
        "import matplotlib.pyplot as plt\n",
        "%matplotlib inline"
      ],
      "execution_count": null,
      "outputs": []
    },
    {
      "cell_type": "code",
      "metadata": {
        "colab": {
          "base_uri": "https://localhost:8080/",
          "height": 203
        },
        "id": "CRgmOyEnQZBz",
        "outputId": "09fae713-41e0-4051-f1f4-1e40f2209bd4"
      },
      "source": [
        "df=pd.read_csv('/content/drive/MyDrive/AbiML/Colab Notebooks/colab datas/covid19_tn (1).csv')\n",
        "df.head()"
      ],
      "execution_count": null,
      "outputs": [
        {
          "output_type": "execute_result",
          "data": {
            "text/html": [
              "<div>\n",
              "<style scoped>\n",
              "    .dataframe tbody tr th:only-of-type {\n",
              "        vertical-align: middle;\n",
              "    }\n",
              "\n",
              "    .dataframe tbody tr th {\n",
              "        vertical-align: top;\n",
              "    }\n",
              "\n",
              "    .dataframe thead th {\n",
              "        text-align: right;\n",
              "    }\n",
              "</style>\n",
              "<table border=\"1\" class=\"dataframe\">\n",
              "  <thead>\n",
              "    <tr style=\"text-align: right;\">\n",
              "      <th></th>\n",
              "      <th>Date</th>\n",
              "      <th>State</th>\n",
              "      <th>Confirmed</th>\n",
              "      <th>Daily</th>\n",
              "      <th>Recovered</th>\n",
              "      <th>Deceased</th>\n",
              "      <th>Other</th>\n",
              "      <th>Tested</th>\n",
              "    </tr>\n",
              "  </thead>\n",
              "  <tbody>\n",
              "    <tr>\n",
              "      <th>0</th>\n",
              "      <td>01-01-21</td>\n",
              "      <td>Tamil Nadu</td>\n",
              "      <td>818935</td>\n",
              "      <td>921</td>\n",
              "      <td>798420</td>\n",
              "      <td>12135</td>\n",
              "      <td>0</td>\n",
              "      <td>14258645</td>\n",
              "    </tr>\n",
              "    <tr>\n",
              "      <th>1</th>\n",
              "      <td>02-01-21</td>\n",
              "      <td>Tamil Nadu</td>\n",
              "      <td>819845</td>\n",
              "      <td>910</td>\n",
              "      <td>799427</td>\n",
              "      <td>12146</td>\n",
              "      <td>0</td>\n",
              "      <td>14321046</td>\n",
              "    </tr>\n",
              "    <tr>\n",
              "      <th>2</th>\n",
              "      <td>03-01-21</td>\n",
              "      <td>Tamil Nadu</td>\n",
              "      <td>820712</td>\n",
              "      <td>867</td>\n",
              "      <td>800429</td>\n",
              "      <td>12156</td>\n",
              "      <td>0</td>\n",
              "      <td>14382123</td>\n",
              "    </tr>\n",
              "    <tr>\n",
              "      <th>3</th>\n",
              "      <td>04-01-21</td>\n",
              "      <td>Tamil Nadu</td>\n",
              "      <td>821550</td>\n",
              "      <td>838</td>\n",
              "      <td>801414</td>\n",
              "      <td>12166</td>\n",
              "      <td>0</td>\n",
              "      <td>14442625</td>\n",
              "    </tr>\n",
              "    <tr>\n",
              "      <th>4</th>\n",
              "      <td>05-01-21</td>\n",
              "      <td>Tamil Nadu</td>\n",
              "      <td>822370</td>\n",
              "      <td>820</td>\n",
              "      <td>802385</td>\n",
              "      <td>12177</td>\n",
              "      <td>0</td>\n",
              "      <td>14502929</td>\n",
              "    </tr>\n",
              "  </tbody>\n",
              "</table>\n",
              "</div>"
            ],
            "text/plain": [
              "       Date       State  Confirmed  Daily  Recovered  Deceased  Other    Tested\n",
              "0  01-01-21  Tamil Nadu     818935    921     798420     12135      0  14258645\n",
              "1  02-01-21  Tamil Nadu     819845    910     799427     12146      0  14321046\n",
              "2  03-01-21  Tamil Nadu     820712    867     800429     12156      0  14382123\n",
              "3  04-01-21  Tamil Nadu     821550    838     801414     12166      0  14442625\n",
              "4  05-01-21  Tamil Nadu     822370    820     802385     12177      0  14502929"
            ]
          },
          "metadata": {
            "tags": []
          },
          "execution_count": 2
        }
      ]
    },
    {
      "cell_type": "code",
      "metadata": {
        "colab": {
          "base_uri": "https://localhost:8080/",
          "height": 973
        },
        "id": "F8B1WrqRQY-V",
        "outputId": "4ef71d5e-e424-4578-a728-1c35bee7173a"
      },
      "source": [
        "df1=df.loc[:,['Date','Daily']]\n",
        "df1.head(30)"
      ],
      "execution_count": null,
      "outputs": [
        {
          "output_type": "execute_result",
          "data": {
            "text/html": [
              "<div>\n",
              "<style scoped>\n",
              "    .dataframe tbody tr th:only-of-type {\n",
              "        vertical-align: middle;\n",
              "    }\n",
              "\n",
              "    .dataframe tbody tr th {\n",
              "        vertical-align: top;\n",
              "    }\n",
              "\n",
              "    .dataframe thead th {\n",
              "        text-align: right;\n",
              "    }\n",
              "</style>\n",
              "<table border=\"1\" class=\"dataframe\">\n",
              "  <thead>\n",
              "    <tr style=\"text-align: right;\">\n",
              "      <th></th>\n",
              "      <th>Date</th>\n",
              "      <th>Daily</th>\n",
              "    </tr>\n",
              "  </thead>\n",
              "  <tbody>\n",
              "    <tr>\n",
              "      <th>0</th>\n",
              "      <td>01-01-21</td>\n",
              "      <td>921</td>\n",
              "    </tr>\n",
              "    <tr>\n",
              "      <th>1</th>\n",
              "      <td>02-01-21</td>\n",
              "      <td>910</td>\n",
              "    </tr>\n",
              "    <tr>\n",
              "      <th>2</th>\n",
              "      <td>03-01-21</td>\n",
              "      <td>867</td>\n",
              "    </tr>\n",
              "    <tr>\n",
              "      <th>3</th>\n",
              "      <td>04-01-21</td>\n",
              "      <td>838</td>\n",
              "    </tr>\n",
              "    <tr>\n",
              "      <th>4</th>\n",
              "      <td>05-01-21</td>\n",
              "      <td>820</td>\n",
              "    </tr>\n",
              "    <tr>\n",
              "      <th>5</th>\n",
              "      <td>06-01-21</td>\n",
              "      <td>811</td>\n",
              "    </tr>\n",
              "    <tr>\n",
              "      <th>6</th>\n",
              "      <td>07-01-21</td>\n",
              "      <td>805</td>\n",
              "    </tr>\n",
              "    <tr>\n",
              "      <th>7</th>\n",
              "      <td>08-01-21</td>\n",
              "      <td>790</td>\n",
              "    </tr>\n",
              "    <tr>\n",
              "      <th>8</th>\n",
              "      <td>09-01-21</td>\n",
              "      <td>761</td>\n",
              "    </tr>\n",
              "    <tr>\n",
              "      <th>9</th>\n",
              "      <td>10-01-21</td>\n",
              "      <td>724</td>\n",
              "    </tr>\n",
              "    <tr>\n",
              "      <th>10</th>\n",
              "      <td>11-01-21</td>\n",
              "      <td>682</td>\n",
              "    </tr>\n",
              "    <tr>\n",
              "      <th>11</th>\n",
              "      <td>12-01-21</td>\n",
              "      <td>671</td>\n",
              "    </tr>\n",
              "    <tr>\n",
              "      <th>12</th>\n",
              "      <td>13-01-21</td>\n",
              "      <td>673</td>\n",
              "    </tr>\n",
              "    <tr>\n",
              "      <th>13</th>\n",
              "      <td>14-01-21</td>\n",
              "      <td>665</td>\n",
              "    </tr>\n",
              "    <tr>\n",
              "      <th>14</th>\n",
              "      <td>15-01-21</td>\n",
              "      <td>621</td>\n",
              "    </tr>\n",
              "    <tr>\n",
              "      <th>15</th>\n",
              "      <td>16-01-21</td>\n",
              "      <td>610</td>\n",
              "    </tr>\n",
              "    <tr>\n",
              "      <th>16</th>\n",
              "      <td>17-01-21</td>\n",
              "      <td>589</td>\n",
              "    </tr>\n",
              "    <tr>\n",
              "      <th>17</th>\n",
              "      <td>18-01-21</td>\n",
              "      <td>551</td>\n",
              "    </tr>\n",
              "    <tr>\n",
              "      <th>18</th>\n",
              "      <td>19-01-21</td>\n",
              "      <td>543</td>\n",
              "    </tr>\n",
              "    <tr>\n",
              "      <th>19</th>\n",
              "      <td>20-01-21</td>\n",
              "      <td>549</td>\n",
              "    </tr>\n",
              "    <tr>\n",
              "      <th>20</th>\n",
              "      <td>21-01-21</td>\n",
              "      <td>596</td>\n",
              "    </tr>\n",
              "    <tr>\n",
              "      <th>21</th>\n",
              "      <td>22-01-21</td>\n",
              "      <td>574</td>\n",
              "    </tr>\n",
              "    <tr>\n",
              "      <th>22</th>\n",
              "      <td>23-01-21</td>\n",
              "      <td>586</td>\n",
              "    </tr>\n",
              "    <tr>\n",
              "      <th>23</th>\n",
              "      <td>24-01-21</td>\n",
              "      <td>569</td>\n",
              "    </tr>\n",
              "    <tr>\n",
              "      <th>24</th>\n",
              "      <td>25-01-21</td>\n",
              "      <td>540</td>\n",
              "    </tr>\n",
              "    <tr>\n",
              "      <th>25</th>\n",
              "      <td>26-01-21</td>\n",
              "      <td>523</td>\n",
              "    </tr>\n",
              "    <tr>\n",
              "      <th>26</th>\n",
              "      <td>27-01-21</td>\n",
              "      <td>512</td>\n",
              "    </tr>\n",
              "    <tr>\n",
              "      <th>27</th>\n",
              "      <td>28-01-21</td>\n",
              "      <td>503</td>\n",
              "    </tr>\n",
              "    <tr>\n",
              "      <th>28</th>\n",
              "      <td>29-01-21</td>\n",
              "      <td>509</td>\n",
              "    </tr>\n",
              "    <tr>\n",
              "      <th>29</th>\n",
              "      <td>30-01-21</td>\n",
              "      <td>505</td>\n",
              "    </tr>\n",
              "  </tbody>\n",
              "</table>\n",
              "</div>"
            ],
            "text/plain": [
              "        Date  Daily\n",
              "0   01-01-21    921\n",
              "1   02-01-21    910\n",
              "2   03-01-21    867\n",
              "3   04-01-21    838\n",
              "4   05-01-21    820\n",
              "5   06-01-21    811\n",
              "6   07-01-21    805\n",
              "7   08-01-21    790\n",
              "8   09-01-21    761\n",
              "9   10-01-21    724\n",
              "10  11-01-21    682\n",
              "11  12-01-21    671\n",
              "12  13-01-21    673\n",
              "13  14-01-21    665\n",
              "14  15-01-21    621\n",
              "15  16-01-21    610\n",
              "16  17-01-21    589\n",
              "17  18-01-21    551\n",
              "18  19-01-21    543\n",
              "19  20-01-21    549\n",
              "20  21-01-21    596\n",
              "21  22-01-21    574\n",
              "22  23-01-21    586\n",
              "23  24-01-21    569\n",
              "24  25-01-21    540\n",
              "25  26-01-21    523\n",
              "26  27-01-21    512\n",
              "27  28-01-21    503\n",
              "28  29-01-21    509\n",
              "29  30-01-21    505"
            ]
          },
          "metadata": {
            "tags": []
          },
          "execution_count": 3
        }
      ]
    },
    {
      "cell_type": "code",
      "metadata": {
        "colab": {
          "base_uri": "https://localhost:8080/"
        },
        "id": "Qrpq1YbiQY7Q",
        "outputId": "60b950fe-1339-4316-bf9b-919b290d6fd8"
      },
      "source": [
        "df1['Date']=pd.to_datetime(df1['Date'])\n",
        "df1.info()"
      ],
      "execution_count": null,
      "outputs": [
        {
          "output_type": "stream",
          "text": [
            "<class 'pandas.core.frame.DataFrame'>\n",
            "RangeIndex: 146 entries, 0 to 145\n",
            "Data columns (total 2 columns):\n",
            " #   Column  Non-Null Count  Dtype         \n",
            "---  ------  --------------  -----         \n",
            " 0   Date    146 non-null    datetime64[ns]\n",
            " 1   Daily   146 non-null    int64         \n",
            "dtypes: datetime64[ns](1), int64(1)\n",
            "memory usage: 2.4 KB\n"
          ],
          "name": "stdout"
        }
      ]
    },
    {
      "cell_type": "code",
      "metadata": {
        "id": "0ddiSP3tQY4p"
      },
      "source": [
        "#df1.set_index('Date',inplace=True)"
      ],
      "execution_count": null,
      "outputs": []
    },
    {
      "cell_type": "code",
      "metadata": {
        "colab": {
          "base_uri": "https://localhost:8080/",
          "height": 203
        },
        "id": "xTTFt-ico1d-",
        "outputId": "25afe157-ee91-47e5-daa9-10d8ae9e7184"
      },
      "source": [
        "df1.columns = ['ds','y']\n",
        "df1.head()"
      ],
      "execution_count": null,
      "outputs": [
        {
          "output_type": "execute_result",
          "data": {
            "text/html": [
              "<div>\n",
              "<style scoped>\n",
              "    .dataframe tbody tr th:only-of-type {\n",
              "        vertical-align: middle;\n",
              "    }\n",
              "\n",
              "    .dataframe tbody tr th {\n",
              "        vertical-align: top;\n",
              "    }\n",
              "\n",
              "    .dataframe thead th {\n",
              "        text-align: right;\n",
              "    }\n",
              "</style>\n",
              "<table border=\"1\" class=\"dataframe\">\n",
              "  <thead>\n",
              "    <tr style=\"text-align: right;\">\n",
              "      <th></th>\n",
              "      <th>ds</th>\n",
              "      <th>y</th>\n",
              "    </tr>\n",
              "  </thead>\n",
              "  <tbody>\n",
              "    <tr>\n",
              "      <th>0</th>\n",
              "      <td>2021-01-01</td>\n",
              "      <td>921</td>\n",
              "    </tr>\n",
              "    <tr>\n",
              "      <th>1</th>\n",
              "      <td>2021-02-01</td>\n",
              "      <td>910</td>\n",
              "    </tr>\n",
              "    <tr>\n",
              "      <th>2</th>\n",
              "      <td>2021-03-01</td>\n",
              "      <td>867</td>\n",
              "    </tr>\n",
              "    <tr>\n",
              "      <th>3</th>\n",
              "      <td>2021-04-01</td>\n",
              "      <td>838</td>\n",
              "    </tr>\n",
              "    <tr>\n",
              "      <th>4</th>\n",
              "      <td>2021-05-01</td>\n",
              "      <td>820</td>\n",
              "    </tr>\n",
              "  </tbody>\n",
              "</table>\n",
              "</div>"
            ],
            "text/plain": [
              "          ds    y\n",
              "0 2021-01-01  921\n",
              "1 2021-02-01  910\n",
              "2 2021-03-01  867\n",
              "3 2021-04-01  838\n",
              "4 2021-05-01  820"
            ]
          },
          "metadata": {
            "tags": []
          },
          "execution_count": 6
        }
      ]
    },
    {
      "cell_type": "code",
      "metadata": {
        "colab": {
          "base_uri": "https://localhost:8080/",
          "height": 417
        },
        "id": "kZmLV2RcRbJf",
        "outputId": "4a889bc6-b64d-4d41-9e04-1ccf7684b342"
      },
      "source": [
        "df1"
      ],
      "execution_count": null,
      "outputs": [
        {
          "output_type": "execute_result",
          "data": {
            "text/html": [
              "<div>\n",
              "<style scoped>\n",
              "    .dataframe tbody tr th:only-of-type {\n",
              "        vertical-align: middle;\n",
              "    }\n",
              "\n",
              "    .dataframe tbody tr th {\n",
              "        vertical-align: top;\n",
              "    }\n",
              "\n",
              "    .dataframe thead th {\n",
              "        text-align: right;\n",
              "    }\n",
              "</style>\n",
              "<table border=\"1\" class=\"dataframe\">\n",
              "  <thead>\n",
              "    <tr style=\"text-align: right;\">\n",
              "      <th></th>\n",
              "      <th>ds</th>\n",
              "      <th>y</th>\n",
              "    </tr>\n",
              "  </thead>\n",
              "  <tbody>\n",
              "    <tr>\n",
              "      <th>0</th>\n",
              "      <td>2021-01-01</td>\n",
              "      <td>921</td>\n",
              "    </tr>\n",
              "    <tr>\n",
              "      <th>1</th>\n",
              "      <td>2021-02-01</td>\n",
              "      <td>910</td>\n",
              "    </tr>\n",
              "    <tr>\n",
              "      <th>2</th>\n",
              "      <td>2021-03-01</td>\n",
              "      <td>867</td>\n",
              "    </tr>\n",
              "    <tr>\n",
              "      <th>3</th>\n",
              "      <td>2021-04-01</td>\n",
              "      <td>838</td>\n",
              "    </tr>\n",
              "    <tr>\n",
              "      <th>4</th>\n",
              "      <td>2021-05-01</td>\n",
              "      <td>820</td>\n",
              "    </tr>\n",
              "    <tr>\n",
              "      <th>...</th>\n",
              "      <td>...</td>\n",
              "      <td>...</td>\n",
              "    </tr>\n",
              "    <tr>\n",
              "      <th>141</th>\n",
              "      <td>2021-05-22</td>\n",
              "      <td>35873</td>\n",
              "    </tr>\n",
              "    <tr>\n",
              "      <th>142</th>\n",
              "      <td>2021-05-23</td>\n",
              "      <td>35483</td>\n",
              "    </tr>\n",
              "    <tr>\n",
              "      <th>143</th>\n",
              "      <td>2021-05-24</td>\n",
              "      <td>34867</td>\n",
              "    </tr>\n",
              "    <tr>\n",
              "      <th>144</th>\n",
              "      <td>2021-05-25</td>\n",
              "      <td>34285</td>\n",
              "    </tr>\n",
              "    <tr>\n",
              "      <th>145</th>\n",
              "      <td>2021-05-26</td>\n",
              "      <td>33764</td>\n",
              "    </tr>\n",
              "  </tbody>\n",
              "</table>\n",
              "<p>146 rows × 2 columns</p>\n",
              "</div>"
            ],
            "text/plain": [
              "            ds      y\n",
              "0   2021-01-01    921\n",
              "1   2021-02-01    910\n",
              "2   2021-03-01    867\n",
              "3   2021-04-01    838\n",
              "4   2021-05-01    820\n",
              "..         ...    ...\n",
              "141 2021-05-22  35873\n",
              "142 2021-05-23  35483\n",
              "143 2021-05-24  34867\n",
              "144 2021-05-25  34285\n",
              "145 2021-05-26  33764\n",
              "\n",
              "[146 rows x 2 columns]"
            ]
          },
          "metadata": {
            "tags": []
          },
          "execution_count": 7
        }
      ]
    },
    {
      "cell_type": "code",
      "metadata": {
        "id": "Nu1Wqk1PpFLH"
      },
      "source": [
        "from fbprophet import Prophet\n",
        "# Initialize the Model\n",
        "model=Prophet( daily_seasonality=True)"
      ],
      "execution_count": null,
      "outputs": []
    },
    {
      "cell_type": "code",
      "metadata": {
        "colab": {
          "base_uri": "https://localhost:8080/"
        },
        "id": "x11WQj4cRC6T",
        "outputId": "c66a0d97-17e2-4f84-be51-94eb16b49b47"
      },
      "source": [
        "model.fit(df1)"
      ],
      "execution_count": null,
      "outputs": [
        {
          "output_type": "stream",
          "text": [
            "INFO:numexpr.utils:NumExpr defaulting to 2 threads.\n",
            "INFO:fbprophet:Disabling yearly seasonality. Run prophet with yearly_seasonality=True to override this.\n"
          ],
          "name": "stderr"
        },
        {
          "output_type": "execute_result",
          "data": {
            "text/plain": [
              "<fbprophet.forecaster.Prophet at 0x7f8ce6c98590>"
            ]
          },
          "metadata": {
            "tags": []
          },
          "execution_count": 9
        }
      ]
    },
    {
      "cell_type": "code",
      "metadata": {
        "id": "JxRANCvTRC2y"
      },
      "source": [
        "future_dates=model.make_future_dataframe(periods=10,freq=\"D\")\n"
      ],
      "execution_count": null,
      "outputs": []
    },
    {
      "cell_type": "code",
      "metadata": {
        "id": "e6JwAvq5ohlX"
      },
      "source": [
        "prediction=model.predict(future_dates)\n"
      ],
      "execution_count": null,
      "outputs": []
    },
    {
      "cell_type": "code",
      "metadata": {
        "colab": {
          "base_uri": "https://localhost:8080/",
          "height": 307
        },
        "id": "CLuuv2vDRC0R",
        "outputId": "e9cfee59-0cda-40e6-a524-392953967031"
      },
      "source": [
        "\n",
        "prediction.head()"
      ],
      "execution_count": null,
      "outputs": [
        {
          "output_type": "execute_result",
          "data": {
            "text/html": [
              "<div>\n",
              "<style scoped>\n",
              "    .dataframe tbody tr th:only-of-type {\n",
              "        vertical-align: middle;\n",
              "    }\n",
              "\n",
              "    .dataframe tbody tr th {\n",
              "        vertical-align: top;\n",
              "    }\n",
              "\n",
              "    .dataframe thead th {\n",
              "        text-align: right;\n",
              "    }\n",
              "</style>\n",
              "<table border=\"1\" class=\"dataframe\">\n",
              "  <thead>\n",
              "    <tr style=\"text-align: right;\">\n",
              "      <th></th>\n",
              "      <th>ds</th>\n",
              "      <th>trend</th>\n",
              "      <th>yhat_lower</th>\n",
              "      <th>yhat_upper</th>\n",
              "      <th>trend_lower</th>\n",
              "      <th>trend_upper</th>\n",
              "      <th>additive_terms</th>\n",
              "      <th>additive_terms_lower</th>\n",
              "      <th>additive_terms_upper</th>\n",
              "      <th>daily</th>\n",
              "      <th>daily_lower</th>\n",
              "      <th>daily_upper</th>\n",
              "      <th>weekly</th>\n",
              "      <th>weekly_lower</th>\n",
              "      <th>weekly_upper</th>\n",
              "      <th>multiplicative_terms</th>\n",
              "      <th>multiplicative_terms_lower</th>\n",
              "      <th>multiplicative_terms_upper</th>\n",
              "      <th>yhat</th>\n",
              "    </tr>\n",
              "  </thead>\n",
              "  <tbody>\n",
              "    <tr>\n",
              "      <th>0</th>\n",
              "      <td>2021-01-01</td>\n",
              "      <td>1006.725653</td>\n",
              "      <td>-11000.291030</td>\n",
              "      <td>15688.418446</td>\n",
              "      <td>1006.725653</td>\n",
              "      <td>1006.725653</td>\n",
              "      <td>1352.020889</td>\n",
              "      <td>1352.020889</td>\n",
              "      <td>1352.020889</td>\n",
              "      <td>345.888744</td>\n",
              "      <td>345.888744</td>\n",
              "      <td>345.888744</td>\n",
              "      <td>1006.132144</td>\n",
              "      <td>1006.132144</td>\n",
              "      <td>1006.132144</td>\n",
              "      <td>0.0</td>\n",
              "      <td>0.0</td>\n",
              "      <td>0.0</td>\n",
              "      <td>2358.746542</td>\n",
              "    </tr>\n",
              "    <tr>\n",
              "      <th>1</th>\n",
              "      <td>2021-01-02</td>\n",
              "      <td>1074.548333</td>\n",
              "      <td>-13253.105190</td>\n",
              "      <td>12959.265012</td>\n",
              "      <td>1074.548333</td>\n",
              "      <td>1074.548333</td>\n",
              "      <td>-573.122855</td>\n",
              "      <td>-573.122855</td>\n",
              "      <td>-573.122855</td>\n",
              "      <td>345.888744</td>\n",
              "      <td>345.888744</td>\n",
              "      <td>345.888744</td>\n",
              "      <td>-919.011599</td>\n",
              "      <td>-919.011599</td>\n",
              "      <td>-919.011599</td>\n",
              "      <td>0.0</td>\n",
              "      <td>0.0</td>\n",
              "      <td>0.0</td>\n",
              "      <td>501.425478</td>\n",
              "    </tr>\n",
              "    <tr>\n",
              "      <th>2</th>\n",
              "      <td>2021-01-03</td>\n",
              "      <td>1142.371013</td>\n",
              "      <td>-11311.978208</td>\n",
              "      <td>15067.025419</td>\n",
              "      <td>1142.371013</td>\n",
              "      <td>1142.371013</td>\n",
              "      <td>811.318833</td>\n",
              "      <td>811.318833</td>\n",
              "      <td>811.318833</td>\n",
              "      <td>345.888744</td>\n",
              "      <td>345.888744</td>\n",
              "      <td>345.888744</td>\n",
              "      <td>465.430089</td>\n",
              "      <td>465.430089</td>\n",
              "      <td>465.430089</td>\n",
              "      <td>0.0</td>\n",
              "      <td>0.0</td>\n",
              "      <td>0.0</td>\n",
              "      <td>1953.689846</td>\n",
              "    </tr>\n",
              "    <tr>\n",
              "      <th>3</th>\n",
              "      <td>2021-01-04</td>\n",
              "      <td>1210.193692</td>\n",
              "      <td>-11084.876482</td>\n",
              "      <td>15135.011868</td>\n",
              "      <td>1210.193692</td>\n",
              "      <td>1210.193692</td>\n",
              "      <td>914.876907</td>\n",
              "      <td>914.876907</td>\n",
              "      <td>914.876907</td>\n",
              "      <td>345.888744</td>\n",
              "      <td>345.888744</td>\n",
              "      <td>345.888744</td>\n",
              "      <td>568.988162</td>\n",
              "      <td>568.988162</td>\n",
              "      <td>568.988162</td>\n",
              "      <td>0.0</td>\n",
              "      <td>0.0</td>\n",
              "      <td>0.0</td>\n",
              "      <td>2125.070599</td>\n",
              "    </tr>\n",
              "    <tr>\n",
              "      <th>4</th>\n",
              "      <td>2021-01-05</td>\n",
              "      <td>1278.016372</td>\n",
              "      <td>-10652.674925</td>\n",
              "      <td>15292.459523</td>\n",
              "      <td>1278.016372</td>\n",
              "      <td>1278.016372</td>\n",
              "      <td>964.860076</td>\n",
              "      <td>964.860076</td>\n",
              "      <td>964.860076</td>\n",
              "      <td>345.888744</td>\n",
              "      <td>345.888744</td>\n",
              "      <td>345.888744</td>\n",
              "      <td>618.971331</td>\n",
              "      <td>618.971331</td>\n",
              "      <td>618.971331</td>\n",
              "      <td>0.0</td>\n",
              "      <td>0.0</td>\n",
              "      <td>0.0</td>\n",
              "      <td>2242.876448</td>\n",
              "    </tr>\n",
              "  </tbody>\n",
              "</table>\n",
              "</div>"
            ],
            "text/plain": [
              "          ds        trend  ...  multiplicative_terms_upper         yhat\n",
              "0 2021-01-01  1006.725653  ...                         0.0  2358.746542\n",
              "1 2021-01-02  1074.548333  ...                         0.0   501.425478\n",
              "2 2021-01-03  1142.371013  ...                         0.0  1953.689846\n",
              "3 2021-01-04  1210.193692  ...                         0.0  2125.070599\n",
              "4 2021-01-05  1278.016372  ...                         0.0  2242.876448\n",
              "\n",
              "[5 rows x 19 columns]"
            ]
          },
          "metadata": {
            "tags": []
          },
          "execution_count": 12
        }
      ]
    },
    {
      "cell_type": "code",
      "metadata": {
        "colab": {
          "base_uri": "https://localhost:8080/",
          "height": 865
        },
        "id": "c_Zu4sP1oo6L",
        "outputId": "56d2a8b8-7109-4498-9e07-f4ef03b8397e"
      },
      "source": [
        "p1=prediction[['ds','yhat','yhat_lower','yhat_upper']]\n",
        "### plot the predicted projection\n",
        "model.plot(p1)"
      ],
      "execution_count": null,
      "outputs": [
        {
          "output_type": "execute_result",
          "data": {
            "image/png": "[encoded data removed]",
            "text/plain": [
              "<Figure size 720x432 with 1 Axes>"
            ]
          },
          "metadata": {
            "tags": []
          },
          "execution_count": 21
        },
        {
          "output_type": "display_data",
          "data": {
            "image/png": "[encoded data removed]",
            "text/plain": [
              "<Figure size 720x432 with 1 Axes>"
            ]
          },
          "metadata": {
            "tags": []
          }
        }
      ]
    }
  ]
}