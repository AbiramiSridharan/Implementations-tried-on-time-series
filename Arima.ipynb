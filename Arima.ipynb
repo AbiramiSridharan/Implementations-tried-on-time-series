{
  "nbformat": 4,
  "nbformat_minor": 5,
  "metadata": {
    "kernelspec": {
      "display_name": "Python 3",
      "language": "python",
      "name": "python3"
    },
    "language_info": {
      "codemirror_mode": {
        "name": "ipython",
        "version": 3
      },
      "file_extension": ".py",
      "mimetype": "text/x-python",
      "name": "python",
      "nbconvert_exporter": "python",
      "pygments_lexer": "ipython3",
      "version": "3.8.5"
    },
    "colab": {
      "name": " Arima.ipynb",
      "provenance": []
    }
  },
  "cells": [
    {
      "cell_type": "markdown",
      "metadata": {
        "id": "standard-cancellation"
      },
      "source": [
        "ARIMA very popular. Time series forecasting is still a forecasting technique.<br>\n",
        "Auto Regressive Integrated Moving Average<br>\n",
        "p Auto regressive(number of lag observations included in the model, lag order)<br>\n",
        "d Integrated if not stationery value is 1. The number of times the data is differenced to make the data stationary<br>\n",
        "q Moving Average (size of the moving average window also known as moving average)"
      ],
      "id": "standard-cancellation"
    },
    {
      "cell_type": "code",
      "metadata": {
        "colab": {
          "base_uri": "https://localhost:8080/"
        },
        "id": "MvNYqOjSyzri",
        "outputId": "d6d66969-73d9-4b42-d294-198076190dd2"
      },
      "source": [
        "from google.colab import drive\n",
        "drive.mount('/content/drive')"
      ],
      "id": "MvNYqOjSyzri",
      "execution_count": null,
      "outputs": [
        {
          "output_type": "stream",
          "text": [
            "Drive already mounted at /content/drive; to attempt to forcibly remount, call drive.mount(\"/content/drive\", force_remount=True).\n"
          ],
          "name": "stdout"
        }
      ]
    },
    {
      "cell_type": "code",
      "metadata": {
        "colab": {
          "base_uri": "https://localhost:8080/"
        },
        "id": "T2l291aT7uJU",
        "outputId": "7ec2803e-99b6-4ac6-f458-dd12f0411fa0"
      },
      "source": [
        "!pip install pmdarima\n"
      ],
      "id": "T2l291aT7uJU",
      "execution_count": null,
      "outputs": [
        {
          "output_type": "stream",
          "text": [
            "Requirement already satisfied: pmdarima in /usr/local/lib/python3.7/dist-packages (1.8.2)\n",
            "Requirement already satisfied: scikit-learn>=0.22 in /usr/local/lib/python3.7/dist-packages (from pmdarima) (0.22.2.post1)\n",
            "Requirement already satisfied: urllib3 in /usr/local/lib/python3.7/dist-packages (from pmdarima) (1.24.3)\n",
            "Requirement already satisfied: setuptools!=50.0.0,>=38.6.0 in /usr/local/lib/python3.7/dist-packages (from pmdarima) (56.1.0)\n",
            "Requirement already satisfied: Cython!=0.29.18,>=0.29 in /usr/local/lib/python3.7/dist-packages (from pmdarima) (0.29.23)\n",
            "Requirement already satisfied: joblib>=0.11 in /usr/local/lib/python3.7/dist-packages (from pmdarima) (1.0.1)\n",
            "Requirement already satisfied: scipy>=1.3.2 in /usr/local/lib/python3.7/dist-packages (from pmdarima) (1.4.1)\n",
            "Requirement already satisfied: pandas>=0.19 in /usr/local/lib/python3.7/dist-packages (from pmdarima) (1.1.5)\n",
            "Requirement already satisfied: numpy~=1.19.0 in /usr/local/lib/python3.7/dist-packages (from pmdarima) (1.19.5)\n",
            "Requirement already satisfied: statsmodels!=0.12.0,>=0.11 in /usr/local/lib/python3.7/dist-packages (from pmdarima) (0.12.2)\n",
            "Requirement already satisfied: python-dateutil>=2.7.3 in /usr/local/lib/python3.7/dist-packages (from pandas>=0.19->pmdarima) (2.8.1)\n",
            "Requirement already satisfied: pytz>=2017.2 in /usr/local/lib/python3.7/dist-packages (from pandas>=0.19->pmdarima) (2018.9)\n",
            "Requirement already satisfied: patsy>=0.5 in /usr/local/lib/python3.7/dist-packages (from statsmodels!=0.12.0,>=0.11->pmdarima) (0.5.1)\n",
            "Requirement already satisfied: six>=1.5 in /usr/local/lib/python3.7/dist-packages (from python-dateutil>=2.7.3->pandas>=0.19->pmdarima) (1.15.0)\n"
          ],
          "name": "stdout"
        }
      ]
    },
    {
      "cell_type": "code",
      "metadata": {
        "id": "human-effort"
      },
      "source": [
        "import pandas as pd\n",
        "import numpy as np\n",
        "import matplotlib.pyplot as plt\n",
        "get_ipython().run_line_magic('matplotlib','inline')\n",
        "import warnings\n",
        "warnings.filterwarnings('ignore')\n",
        "from pmdarima.arima import auto_arima"
      ],
      "id": "human-effort",
      "execution_count": null,
      "outputs": []
    },
    {
      "cell_type": "code",
      "metadata": {
        "id": "attended-summary",
        "colab": {
          "base_uri": "https://localhost:8080/",
          "height": 206
        },
        "outputId": "6e619c4d-ccd3-499b-d95b-19905b388fcb"
      },
      "source": [
        "coviddata=pd.read_csv('/content/drive/MyDrive/Colab Notebooks/colab datas/data-DIpcH.csv')\n",
        "coviddata.head()"
      ],
      "id": "attended-summary",
      "execution_count": null,
      "outputs": [
        {
          "output_type": "execute_result",
          "data": {
            "text/html": [
              "<div>\n",
              "<style scoped>\n",
              "    .dataframe tbody tr th:only-of-type {\n",
              "        vertical-align: middle;\n",
              "    }\n",
              "\n",
              "    .dataframe tbody tr th {\n",
              "        vertical-align: top;\n",
              "    }\n",
              "\n",
              "    .dataframe thead th {\n",
              "        text-align: right;\n",
              "    }\n",
              "</style>\n",
              "<table border=\"1\" class=\"dataframe\">\n",
              "  <thead>\n",
              "    <tr style=\"text-align: right;\">\n",
              "      <th></th>\n",
              "      <th>Date</th>\n",
              "      <th>daily_cases</th>\n",
              "      <th>Total cases</th>\n",
              "      <th>daily_recovery</th>\n",
              "      <th>Total Recovered</th>\n",
              "      <th>daily_death</th>\n",
              "      <th>Total Death</th>\n",
              "    </tr>\n",
              "  </thead>\n",
              "  <tbody>\n",
              "    <tr>\n",
              "      <th>0</th>\n",
              "      <td>01-03-2020</td>\n",
              "      <td>3</td>\n",
              "      <td>3</td>\n",
              "      <td>0</td>\n",
              "      <td>0</td>\n",
              "      <td>0</td>\n",
              "      <td>0</td>\n",
              "    </tr>\n",
              "    <tr>\n",
              "      <th>1</th>\n",
              "      <td>02-03-2020</td>\n",
              "      <td>3</td>\n",
              "      <td>6</td>\n",
              "      <td>0</td>\n",
              "      <td>0</td>\n",
              "      <td>0</td>\n",
              "      <td>0</td>\n",
              "    </tr>\n",
              "    <tr>\n",
              "      <th>2</th>\n",
              "      <td>03-03-2020</td>\n",
              "      <td>2</td>\n",
              "      <td>8</td>\n",
              "      <td>0</td>\n",
              "      <td>0</td>\n",
              "      <td>0</td>\n",
              "      <td>0</td>\n",
              "    </tr>\n",
              "    <tr>\n",
              "      <th>3</th>\n",
              "      <td>04-03-2020</td>\n",
              "      <td>22</td>\n",
              "      <td>30</td>\n",
              "      <td>0</td>\n",
              "      <td>0</td>\n",
              "      <td>0</td>\n",
              "      <td>0</td>\n",
              "    </tr>\n",
              "    <tr>\n",
              "      <th>4</th>\n",
              "      <td>05-03-2020</td>\n",
              "      <td>1</td>\n",
              "      <td>31</td>\n",
              "      <td>0</td>\n",
              "      <td>0</td>\n",
              "      <td>0</td>\n",
              "      <td>0</td>\n",
              "    </tr>\n",
              "  </tbody>\n",
              "</table>\n",
              "</div>"
            ],
            "text/plain": [
              "         Date  daily_cases  ...  daily_death  Total Death\n",
              "0  01-03-2020            3  ...            0            0\n",
              "1  02-03-2020            3  ...            0            0\n",
              "2  03-03-2020            2  ...            0            0\n",
              "3  04-03-2020           22  ...            0            0\n",
              "4  05-03-2020            1  ...            0            0\n",
              "\n",
              "[5 rows x 7 columns]"
            ]
          },
          "metadata": {
            "tags": []
          },
          "execution_count": 25
        }
      ]
    },
    {
      "cell_type": "code",
      "metadata": {
        "colab": {
          "base_uri": "https://localhost:8080/"
        },
        "id": "98YqperxAQrC",
        "outputId": "7d5c7e3c-d9c2-491c-c33a-7d6f8a7159a9"
      },
      "source": [
        "coviddata.info()"
      ],
      "id": "98YqperxAQrC",
      "execution_count": null,
      "outputs": [
        {
          "output_type": "stream",
          "text": [
            "<class 'pandas.core.frame.DataFrame'>\n",
            "RangeIndex: 445 entries, 0 to 444\n",
            "Data columns (total 7 columns):\n",
            " #   Column           Non-Null Count  Dtype \n",
            "---  ------           --------------  ----- \n",
            " 0   Date             445 non-null    object\n",
            " 1   daily_cases      445 non-null    int64 \n",
            " 2   Total cases      445 non-null    int64 \n",
            " 3   daily_recovery   445 non-null    int64 \n",
            " 4   Total Recovered  445 non-null    int64 \n",
            " 5   daily_death      445 non-null    int64 \n",
            " 6   Total Death      445 non-null    int64 \n",
            "dtypes: int64(6), object(1)\n",
            "memory usage: 24.5+ KB\n"
          ],
          "name": "stdout"
        }
      ]
    },
    {
      "cell_type": "code",
      "metadata": {
        "id": "peaceful-robert",
        "colab": {
          "base_uri": "https://localhost:8080/"
        },
        "outputId": "273b094d-56fa-4169-8560-f02918142923"
      },
      "source": [
        "index=pd.date_range(start='2020-03-01',end='2021-05-19',freq='D')\n",
        "data=pd.Series(coviddata['daily_cases'].values,index)\n",
        "data"
      ],
      "id": "peaceful-robert",
      "execution_count": null,
      "outputs": [
        {
          "output_type": "execute_result",
          "data": {
            "text/plain": [
              "2020-03-01         3\n",
              "2020-03-02         3\n",
              "2020-03-03         2\n",
              "2020-03-04        22\n",
              "2020-03-05         1\n",
              "               ...  \n",
              "2021-05-15    281386\n",
              "2021-05-16    263533\n",
              "2021-05-17    267334\n",
              "2021-05-18    276110\n",
              "2021-05-19    259551\n",
              "Freq: D, Length: 445, dtype: int64"
            ]
          },
          "metadata": {
            "tags": []
          },
          "execution_count": 26
        }
      ]
    },
    {
      "cell_type": "code",
      "metadata": {
        "id": "planned-cradle",
        "colab": {
          "base_uri": "https://localhost:8080/",
          "height": 295
        },
        "outputId": "a4b86386-a2a8-4912-fbeb-77b4e0c5f972"
      },
      "source": [
        "data.plot()"
      ],
      "id": "planned-cradle",
      "execution_count": null,
      "outputs": [
        {
          "output_type": "execute_result",
          "data": {
            "text/plain": [
              "<matplotlib.axes._subplots.AxesSubplot at 0x7f7b96f46290>"
            ]
          },
          "metadata": {
            "tags": []
          },
          "execution_count": 27
        },
        {
          "output_type": "display_data",
          "data": {
            "image/png": "[encoded data removed]",
            "text/plain": [
              "<Figure size 432x288 with 1 Axes>"
            ]
          },
          "metadata": {
            "tags": [],
            "needs_background": "light"
          }
        }
      ]
    },
    {
      "cell_type": "code",
      "metadata": {
        "id": "adaptive-arkansas"
      },
      "source": [
        "from pandas.plotting import autocorrelation_plot"
      ],
      "id": "adaptive-arkansas",
      "execution_count": null,
      "outputs": []
    },
    {
      "cell_type": "code",
      "metadata": {
        "id": "stunning-pantyhose",
        "colab": {
          "base_uri": "https://localhost:8080/",
          "height": 283
        },
        "outputId": "69650c9c-2d34-4c62-d336-e0dfd994fbbe"
      },
      "source": [
        "autocorrelation_plot(data)\n",
        "plt.show()"
      ],
      "id": "stunning-pantyhose",
      "execution_count": null,
      "outputs": [
        {
          "output_type": "display_data",
          "data": {
            "image/png": "[encoded data removed]",
            "text/plain": [
              "<Figure size 432x288 with 1 Axes>"
            ]
          },
          "metadata": {
            "tags": [],
            "needs_background": "light"
          }
        }
      ]
    },
    {
      "cell_type": "code",
      "metadata": {
        "id": "existing-beads"
      },
      "source": [
        "from statsmodels.tsa.arima_model import ARIMA"
      ],
      "id": "existing-beads",
      "execution_count": null,
      "outputs": []
    },
    {
      "cell_type": "code",
      "metadata": {
        "id": "annoying-quebec"
      },
      "source": [
        "data.index=data.index.to_period('D')"
      ],
      "id": "annoying-quebec",
      "execution_count": null,
      "outputs": []
    },
    {
      "cell_type": "code",
      "metadata": {
        "id": "criminal-living",
        "colab": {
          "base_uri": "https://localhost:8080/"
        },
        "outputId": "62439321-d14f-499b-d26e-037f1ee3cf99"
      },
      "source": [
        "model=ARIMA(data,order=(15,1,0))\n",
        "model_fit=model.fit()\n",
        "print(model_fit.summary())"
      ],
      "id": "criminal-living",
      "execution_count": null,
      "outputs": [
        {
          "output_type": "stream",
          "text": [
            "                             ARIMA Model Results                              \n",
            "==============================================================================\n",
            "Dep. Variable:                    D.y   No. Observations:                  444\n",
            "Model:                ARIMA(15, 1, 0)   Log Likelihood               -4331.950\n",
            "Method:                       css-mle   S.D. of innovations           4135.331\n",
            "Date:                Sun, 30 May 2021   AIC                           8697.899\n",
            "Time:                        11:20:48   BIC                           8767.528\n",
            "Sample:                    03-02-2020   HQIC                          8725.358\n",
            "                         - 05-19-2021                                         \n",
            "==============================================================================\n",
            "                 coef    std err          z      P>|z|      [0.025      0.975]\n",
            "------------------------------------------------------------------------------\n",
            "const        584.5671    759.878      0.769      0.442    -904.766    2073.900\n",
            "ar.L1.D.y      0.0110      0.047      0.234      0.815      -0.081       0.103\n",
            "ar.L2.D.y      0.0181      0.047      0.384      0.701      -0.074       0.110\n",
            "ar.L3.D.y      0.2022      0.047      4.298      0.000       0.110       0.294\n",
            "ar.L4.D.y     -0.0275      0.048     -0.578      0.563      -0.121       0.066\n",
            "ar.L5.D.y      0.1901      0.048      3.962      0.000       0.096       0.284\n",
            "ar.L6.D.y      0.1817      0.048      3.798      0.000       0.088       0.275\n",
            "ar.L7.D.y      0.7092      0.048     14.743      0.000       0.615       0.803\n",
            "ar.L8.D.y      0.1122      0.059      1.893      0.058      -0.004       0.228\n",
            "ar.L9.D.y     -0.1285      0.048     -2.659      0.008      -0.223      -0.034\n",
            "ar.L10.D.y    -0.2081      0.049     -4.285      0.000      -0.303      -0.113\n",
            "ar.L11.D.y     0.0325      0.050      0.646      0.518      -0.066       0.131\n",
            "ar.L12.D.y    -0.2206      0.052     -4.253      0.000      -0.322      -0.119\n",
            "ar.L13.D.y    -0.0820      0.052     -1.571      0.116      -0.184       0.020\n",
            "ar.L14.D.y     0.0826      0.052      1.589      0.112      -0.019       0.185\n",
            "ar.L15.D.y    -0.1299      0.053     -2.470      0.014      -0.233      -0.027\n",
            "                                    Roots                                     \n",
            "==============================================================================\n",
            "                   Real          Imaginary           Modulus         Frequency\n",
            "------------------------------------------------------------------------------\n",
            "AR.1            -0.9488           -0.4377j            1.0448           -0.4312\n",
            "AR.2            -0.9488           +0.4377j            1.0448            0.4312\n",
            "AR.3            -1.2944           -0.0000j            1.2944           -0.5000\n",
            "AR.4            -0.7380           -0.7992j            1.0878           -0.3687\n",
            "AR.5            -0.7380           +0.7992j            1.0878            0.3687\n",
            "AR.6            -0.2317           -0.9853j            1.0122           -0.2868\n",
            "AR.7            -0.2317           +0.9853j            1.0122            0.2868\n",
            "AR.8             1.0481           -0.0911j            1.0521           -0.0138\n",
            "AR.9             1.0481           +0.0911j            1.0521            0.0138\n",
            "AR.10            0.6145           -0.8070j            1.0144           -0.1464\n",
            "AR.11            0.6145           +0.8070j            1.0144            0.1464\n",
            "AR.12            0.1831           -1.3129j            1.3256           -0.2279\n",
            "AR.13            0.1831           +1.3129j            1.3256            0.2279\n",
            "AR.14            1.0380           -1.0808j            1.4985           -0.1282\n",
            "AR.15            1.0380           +1.0808j            1.4985            0.1282\n",
            "------------------------------------------------------------------------------\n"
          ],
          "name": "stdout"
        }
      ]
    },
    {
      "cell_type": "code",
      "metadata": {
        "id": "entertaining-kingston",
        "colab": {
          "base_uri": "https://localhost:8080/"
        },
        "outputId": "0985e8b6-67eb-4aa5-c341-86b58fab3677"
      },
      "source": [
        "pred=model_fit.predict(start='2021-05-20',end='2021-06-25')\n",
        "pred"
      ],
      "id": "entertaining-kingston",
      "execution_count": null,
      "outputs": [
        {
          "output_type": "execute_result",
          "data": {
            "text/plain": [
              "2021-05-20   -21396.950545\n",
              "2021-05-21    -6884.748905\n",
              "2021-05-22   -27047.288124\n",
              "2021-05-23   -15742.278866\n",
              "2021-05-24    13580.915915\n",
              "2021-05-25     6463.833058\n",
              "2021-05-26   -14454.369349\n",
              "2021-05-27   -13706.978131\n",
              "2021-05-28    -6732.741683\n",
              "2021-05-29   -16920.230165\n",
              "2021-05-30    -8090.120787\n",
              "2021-05-31    14840.881832\n",
              "2021-06-01    11544.218785\n",
              "2021-06-02   -12504.281739\n",
              "2021-06-03    -9591.766149\n",
              "2021-06-04     -325.360333\n",
              "2021-06-05   -12342.708464\n",
              "2021-06-06    -1411.688528\n",
              "2021-06-07    18402.085725\n",
              "2021-06-08    10918.132975\n",
              "2021-06-09    -8918.048882\n",
              "2021-06-10    -6406.436850\n",
              "2021-06-11     1885.346800\n",
              "2021-06-12    -6520.382888\n",
              "2021-06-13     1492.080651\n",
              "2021-06-14    19217.351717\n",
              "2021-06-15    10894.905823\n",
              "2021-06-16    -8952.830781\n",
              "2021-06-17    -4044.290021\n",
              "2021-06-18     3350.187963\n",
              "2021-06-19    -4371.562504\n",
              "2021-06-20     3850.266104\n",
              "2021-06-21    17988.880209\n",
              "2021-06-22     8812.037944\n",
              "2021-06-23    -8790.742928\n",
              "2021-06-24    -3788.213836\n",
              "2021-06-25     3797.904189\n",
              "Freq: D, dtype: float64"
            ]
          },
          "metadata": {
            "tags": []
          },
          "execution_count": 38
        }
      ]
    },
    {
      "cell_type": "code",
      "metadata": {
        "colab": {
          "base_uri": "https://localhost:8080/",
          "height": 424
        },
        "id": "2q2rIDQn8_0k",
        "outputId": "fb6126e1-b014-4fd6-b604-4935d9d5a61e"
      },
      "source": [
        "future_df=pd.DataFrame()\n",
        "future_df['prediction']= pred\n",
        "future_df1=pd.concat([data,future_df])\n",
        "future_df1"
      ],
      "id": "2q2rIDQn8_0k",
      "execution_count": null,
      "outputs": [
        {
          "output_type": "execute_result",
          "data": {
            "text/html": [
              "<div>\n",
              "<style scoped>\n",
              "    .dataframe tbody tr th:only-of-type {\n",
              "        vertical-align: middle;\n",
              "    }\n",
              "\n",
              "    .dataframe tbody tr th {\n",
              "        vertical-align: top;\n",
              "    }\n",
              "\n",
              "    .dataframe thead th {\n",
              "        text-align: right;\n",
              "    }\n",
              "</style>\n",
              "<table border=\"1\" class=\"dataframe\">\n",
              "  <thead>\n",
              "    <tr style=\"text-align: right;\">\n",
              "      <th></th>\n",
              "      <th>0</th>\n",
              "      <th>prediction</th>\n",
              "    </tr>\n",
              "  </thead>\n",
              "  <tbody>\n",
              "    <tr>\n",
              "      <th>2020-03-01</th>\n",
              "      <td>3.0</td>\n",
              "      <td>NaN</td>\n",
              "    </tr>\n",
              "    <tr>\n",
              "      <th>2020-03-02</th>\n",
              "      <td>3.0</td>\n",
              "      <td>NaN</td>\n",
              "    </tr>\n",
              "    <tr>\n",
              "      <th>2020-03-03</th>\n",
              "      <td>2.0</td>\n",
              "      <td>NaN</td>\n",
              "    </tr>\n",
              "    <tr>\n",
              "      <th>2020-03-04</th>\n",
              "      <td>22.0</td>\n",
              "      <td>NaN</td>\n",
              "    </tr>\n",
              "    <tr>\n",
              "      <th>2020-03-05</th>\n",
              "      <td>1.0</td>\n",
              "      <td>NaN</td>\n",
              "    </tr>\n",
              "    <tr>\n",
              "      <th>...</th>\n",
              "      <td>...</td>\n",
              "      <td>...</td>\n",
              "    </tr>\n",
              "    <tr>\n",
              "      <th>2021-06-21</th>\n",
              "      <td>NaN</td>\n",
              "      <td>17988.880209</td>\n",
              "    </tr>\n",
              "    <tr>\n",
              "      <th>2021-06-22</th>\n",
              "      <td>NaN</td>\n",
              "      <td>8812.037944</td>\n",
              "    </tr>\n",
              "    <tr>\n",
              "      <th>2021-06-23</th>\n",
              "      <td>NaN</td>\n",
              "      <td>-8790.742928</td>\n",
              "    </tr>\n",
              "    <tr>\n",
              "      <th>2021-06-24</th>\n",
              "      <td>NaN</td>\n",
              "      <td>-3788.213836</td>\n",
              "    </tr>\n",
              "    <tr>\n",
              "      <th>2021-06-25</th>\n",
              "      <td>NaN</td>\n",
              "      <td>3797.904189</td>\n",
              "    </tr>\n",
              "  </tbody>\n",
              "</table>\n",
              "<p>482 rows × 2 columns</p>\n",
              "</div>"
            ],
            "text/plain": [
              "               0    prediction\n",
              "2020-03-01   3.0           NaN\n",
              "2020-03-02   3.0           NaN\n",
              "2020-03-03   2.0           NaN\n",
              "2020-03-04  22.0           NaN\n",
              "2020-03-05   1.0           NaN\n",
              "...          ...           ...\n",
              "2021-06-21   NaN  17988.880209\n",
              "2021-06-22   NaN   8812.037944\n",
              "2021-06-23   NaN  -8790.742928\n",
              "2021-06-24   NaN  -3788.213836\n",
              "2021-06-25   NaN   3797.904189\n",
              "\n",
              "[482 rows x 2 columns]"
            ]
          },
          "metadata": {
            "tags": []
          },
          "execution_count": 39
        }
      ]
    },
    {
      "cell_type": "code",
      "metadata": {
        "colab": {
          "base_uri": "https://localhost:8080/",
          "height": 512
        },
        "id": "QMk-fEnfAkG4",
        "outputId": "f6ceb7a9-d635-4c9a-ed52-026a516eecc4"
      },
      "source": [
        "future_df1[[0, 'prediction']].plot(figsize=(12, 8))"
      ],
      "id": "QMk-fEnfAkG4",
      "execution_count": null,
      "outputs": [
        {
          "output_type": "execute_result",
          "data": {
            "text/plain": [
              "<matplotlib.axes._subplots.AxesSubplot at 0x7f7b96de57d0>"
            ]
          },
          "metadata": {
            "tags": []
          },
          "execution_count": 40
        },
        {
          "output_type": "display_data",
          "data": {
            "image/png": "[encoded data removed]",
            "text/plain": [
              "<Figure size 864x576 with 1 Axes>"
            ]
          },
          "metadata": {
            "tags": [],
            "needs_background": "light"
          }
        }
      ]
    }
  ]
}